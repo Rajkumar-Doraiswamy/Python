{
 "cells": [
  {
   "cell_type": "markdown",
   "metadata": {
    "slideshow": {
     "slide_type": "slide"
    }
   },
   "source": [
    "## Data manipulation with Pandas\n",
    "<img src=\"https://pandas.pydata.org/_static/pandas_logo.png\" width=\"400\" align=\"left\"/>"
   ]
  },
  {
   "cell_type": "code",
   "execution_count": 3,
   "metadata": {
    "slideshow": {
     "slide_type": "fragment"
    }
   },
   "outputs": [],
   "source": [
    "import warnings\n",
    "warnings.filterwarnings('ignore')"
   ]
  },
  {
   "cell_type": "code",
   "execution_count": 4,
   "metadata": {
    "slideshow": {
     "slide_type": "fragment"
    }
   },
   "outputs": [],
   "source": [
    "import numpy as np\n",
    "import pandas as pd\n",
    "import matplotlib.pyplot as plt"
   ]
  },
  {
   "cell_type": "markdown",
   "metadata": {
    "slideshow": {
     "slide_type": "slide"
    }
   },
   "source": [
    "Import [Seaborn](https://seaborn.pydata.org/index.html)"
   ]
  },
  {
   "cell_type": "code",
   "execution_count": 5,
   "metadata": {
    "slideshow": {
     "slide_type": "fragment"
    }
   },
   "outputs": [],
   "source": [
    "import seaborn as sns\n",
    "sns.set() # seaborn overwrites matplotlib's defaults"
   ]
  },
  {
   "cell_type": "markdown",
   "metadata": {
    "slideshow": {
     "slide_type": "fragment"
    },
    "solution2": "hidden"
   },
   "source": [
    "Run the following in a terminal (or anaconda prompt):\n",
    "```bash\n",
    "conda install seaborn=0.8\n",
    "conda install openpyxl=2.4\n",
    "conda install requests=2.18 \n",
    "```"
   ]
  },
  {
   "cell_type": "code",
   "execution_count": 4,
   "metadata": {
    "slideshow": {
     "slide_type": "skip"
    }
   },
   "outputs": [],
   "source": [
    "plt.rcParams.update({'font.size': 14, 'figure.figsize': [8, 4]})\n"
   ]
  },
  {
   "cell_type": "markdown",
   "metadata": {
    "slideshow": {
     "slide_type": "slide"
    }
   },
   "source": [
    "The Pandas library provides: \n",
    "* an implementation of a `DataFrame` that is a multidimensional array with row and column labels;\n",
    "* implementations of data operations that are typical of spreadsheet programs (e.g. Excel).\n",
    "\n",
    "Pandas data structures are:\n",
    "* `Series`\n",
    "* `DataFrame`\n",
    "* `Index`"
   ]
  },
  {
   "cell_type": "markdown",
   "metadata": {
    "slideshow": {
     "slide_type": "slide"
    }
   },
   "source": [
    "A Pandas `Series` is a 1D array where each value is associated with an explicitly defined index"
   ]
  },
  {
   "cell_type": "code",
   "execution_count": 5,
   "metadata": {
    "slideshow": {
     "slide_type": "fragment"
    }
   },
   "outputs": [
    {
     "data": {
      "text/plain": [
       "a     7.0\n",
       "e     8.0\n",
       "i     9.0\n",
       "o    10.0\n",
       "dtype: float64"
      ]
     },
     "execution_count": 5,
     "metadata": {},
     "output_type": "execute_result"
    }
   ],
   "source": [
    "data = pd.Series(np.linspace(7,10,4),index=['a','e','i','o'])\n",
    "data"
   ]
  },
  {
   "cell_type": "code",
   "execution_count": 6,
   "metadata": {
    "slideshow": {
     "slide_type": "fragment"
    }
   },
   "outputs": [
    {
     "data": {
      "text/plain": [
       "array([ 7.,  8.,  9., 10.])"
      ]
     },
     "execution_count": 6,
     "metadata": {},
     "output_type": "execute_result"
    }
   ],
   "source": [
    "data.values"
   ]
  },
  {
   "cell_type": "code",
   "execution_count": 7,
   "metadata": {
    "slideshow": {
     "slide_type": "fragment"
    }
   },
   "outputs": [
    {
     "data": {
      "text/plain": [
       "Index(['a', 'e', 'i', 'o'], dtype='object')"
      ]
     },
     "execution_count": 7,
     "metadata": {},
     "output_type": "execute_result"
    }
   ],
   "source": [
    "data.index"
   ]
  },
  {
   "cell_type": "markdown",
   "metadata": {
    "slideshow": {
     "slide_type": "slide"
    }
   },
   "source": [
    "Analogy with Python dictionary: we are mapping keys to values"
   ]
  },
  {
   "cell_type": "code",
   "execution_count": 8,
   "metadata": {
    "slideshow": {
     "slide_type": "fragment"
    }
   },
   "outputs": [
    {
     "data": {
      "text/plain": [
       "7.0"
      ]
     },
     "execution_count": 8,
     "metadata": {},
     "output_type": "execute_result"
    }
   ],
   "source": [
    "data['a']"
   ]
  },
  {
   "cell_type": "markdown",
   "metadata": {
    "slideshow": {
     "slide_type": "fragment"
    }
   },
   "source": [
    "Pandas structures can be thought of as advanced dictionaries (`json` structure).<br>\n",
    "Here is a dictionary (`dict`) where we associate some European countries to the emission (in kilograms per capita) of carbon dioxide in 2014 (eurostat)"
   ]
  },
  {
   "cell_type": "code",
   "execution_count": 9,
   "metadata": {
    "slideshow": {
     "slide_type": "fragment"
    }
   },
   "outputs": [],
   "source": [
    "emission_co2_dict = { 'Estonia' : 14759.47137, \n",
    "              'Luxembourg' : 14695.69977, \n",
    "              'Netherlands': 11601.47373,\n",
    "              'Sweden': 5296.85373 }"
   ]
  },
  {
   "cell_type": "markdown",
   "metadata": {
    "slideshow": {
     "slide_type": "slide"
    },
    "solution2": "hidden",
    "solution2_first": true
   },
   "source": [
    "#### Task: Show the `type` of `data['a']` and `emission_co2_dict`"
   ]
  },
  {
   "cell_type": "code",
   "execution_count": 10,
   "metadata": {
    "slideshow": {
     "slide_type": "fragment"
    },
    "solution2": "hidden"
   },
   "outputs": [
    {
     "name": "stdout",
     "output_type": "stream",
     "text": [
      "<class 'numpy.float64'>\n",
      "<class 'dict'>\n"
     ]
    }
   ],
   "source": [
    "print(type(data['a']))\n",
    "print(type(emission_co2_dict))"
   ]
  },
  {
   "cell_type": "markdown",
   "metadata": {},
   "source": [
    "#### Saving the dictionary as a `json` file"
   ]
  },
  {
   "cell_type": "code",
   "execution_count": 11,
   "metadata": {},
   "outputs": [],
   "source": [
    "import json\n",
    "with open('data.json', 'w') as outfile:\n",
    "    json.dump(emission_co2_dict, outfile)"
   ]
  },
  {
   "cell_type": "markdown",
   "metadata": {
    "slideshow": {
     "slide_type": "slide"
    }
   },
   "source": [
    "A Pandas `Series` can be readily created from a dictionary"
   ]
  },
  {
   "cell_type": "code",
   "execution_count": 12,
   "metadata": {
    "slideshow": {
     "slide_type": "fragment"
    }
   },
   "outputs": [
    {
     "data": {
      "text/plain": [
       "Estonia        14759.47137\n",
       "Luxembourg     14695.69977\n",
       "Netherlands    11601.47373\n",
       "Sweden          5296.85373\n",
       "dtype: float64"
      ]
     },
     "execution_count": 12,
     "metadata": {},
     "output_type": "execute_result"
    }
   ],
   "source": [
    "emission_co2 = pd.Series(emission_co2_dict)\n",
    "emission_co2"
   ]
  },
  {
   "cell_type": "markdown",
   "metadata": {
    "slideshow": {
     "slide_type": "fragment"
    }
   },
   "source": [
    "Even in this case, indeces can be explicitly specified"
   ]
  },
  {
   "cell_type": "code",
   "execution_count": 13,
   "metadata": {
    "slideshow": {
     "slide_type": "fragment"
    }
   },
   "outputs": [
    {
     "data": {
      "text/plain": [
       "Sweden          5296.85373\n",
       "Netherlands    11601.47373\n",
       "dtype: float64"
      ]
     },
     "execution_count": 13,
     "metadata": {},
     "output_type": "execute_result"
    }
   ],
   "source": [
    "pd.Series(emission_co2_dict,index=['Sweden','Netherlands'])"
   ]
  },
  {
   "cell_type": "markdown",
   "metadata": {
    "slideshow": {
     "slide_type": "slide"
    }
   },
   "source": [
    "A `DataFrame` consists of a sequence of `Series` with common indeces.<br>\n",
    "Here we create a `DataFrame` containing values of emissions (in kilograms per capita) of CO$_2$ and N$_2$O in some European countries in 2014 (eurostat)."
   ]
  },
  {
   "cell_type": "code",
   "execution_count": 14,
   "metadata": {
    "slideshow": {
     "slide_type": "fragment"
    }
   },
   "outputs": [
    {
     "data": {
      "text/html": [
       "<div>\n",
       "<style scoped>\n",
       "    .dataframe tbody tr th:only-of-type {\n",
       "        vertical-align: middle;\n",
       "    }\n",
       "\n",
       "    .dataframe tbody tr th {\n",
       "        vertical-align: top;\n",
       "    }\n",
       "\n",
       "    .dataframe thead th {\n",
       "        text-align: right;\n",
       "    }\n",
       "</style>\n",
       "<table border=\"1\" class=\"dataframe\">\n",
       "  <thead>\n",
       "    <tr style=\"text-align: right;\">\n",
       "      <th></th>\n",
       "      <th>CO$_2$</th>\n",
       "      <th>N$_2$O</th>\n",
       "    </tr>\n",
       "  </thead>\n",
       "  <tbody>\n",
       "    <tr>\n",
       "      <th>Estonia</th>\n",
       "      <td>14759.47137</td>\n",
       "      <td>2.10151</td>\n",
       "    </tr>\n",
       "    <tr>\n",
       "      <th>Italy</th>\n",
       "      <td>NaN</td>\n",
       "      <td>1.73669</td>\n",
       "    </tr>\n",
       "    <tr>\n",
       "      <th>Luxembourg</th>\n",
       "      <td>14695.69977</td>\n",
       "      <td>1.60177</td>\n",
       "    </tr>\n",
       "    <tr>\n",
       "      <th>Netherlands</th>\n",
       "      <td>11601.47373</td>\n",
       "      <td>1.58958</td>\n",
       "    </tr>\n",
       "    <tr>\n",
       "      <th>Sweden</th>\n",
       "      <td>5296.85373</td>\n",
       "      <td>1.73669</td>\n",
       "    </tr>\n",
       "  </tbody>\n",
       "</table>\n",
       "</div>"
      ],
      "text/plain": [
       "                  CO$_2$   N$_2$O\n",
       "Estonia      14759.47137  2.10151\n",
       "Italy                NaN  1.73669\n",
       "Luxembourg   14695.69977  1.60177\n",
       "Netherlands  11601.47373  1.58958\n",
       "Sweden        5296.85373  1.73669"
      ]
     },
     "execution_count": 14,
     "metadata": {},
     "output_type": "execute_result"
    }
   ],
   "source": [
    "emission_n20_dict = { 'Estonia' : 2.10151, \n",
    "              'Luxembourg' : 1.60177, \n",
    "              'Netherlands': 1.58958,\n",
    "              'Sweden': 1.73669, \n",
    "              'Italy': 1.73669 }\n",
    "\n",
    "emissions = pd.DataFrame({'CO$_2$':emission_co2_dict,'N$_2$O':emission_n20_dict})\n",
    "emissions"
   ]
  },
  {
   "cell_type": "markdown",
   "metadata": {
    "slideshow": {
     "slide_type": "slide"
    }
   },
   "source": [
    "A `DataFrame` can be indexed using `loc` (with keys) or `iloc` (with row number)"
   ]
  },
  {
   "cell_type": "code",
   "execution_count": 15,
   "metadata": {
    "slideshow": {
     "slide_type": "fragment"
    }
   },
   "outputs": [
    {
     "data": {
      "text/html": [
       "<div>\n",
       "<style scoped>\n",
       "    .dataframe tbody tr th:only-of-type {\n",
       "        vertical-align: middle;\n",
       "    }\n",
       "\n",
       "    .dataframe tbody tr th {\n",
       "        vertical-align: top;\n",
       "    }\n",
       "\n",
       "    .dataframe thead th {\n",
       "        text-align: right;\n",
       "    }\n",
       "</style>\n",
       "<table border=\"1\" class=\"dataframe\">\n",
       "  <thead>\n",
       "    <tr style=\"text-align: right;\">\n",
       "      <th></th>\n",
       "      <th>CO$_2$</th>\n",
       "      <th>N$_2$O</th>\n",
       "    </tr>\n",
       "  </thead>\n",
       "  <tbody>\n",
       "    <tr>\n",
       "      <th>Estonia</th>\n",
       "      <td>14759.47137</td>\n",
       "      <td>2.10151</td>\n",
       "    </tr>\n",
       "    <tr>\n",
       "      <th>Italy</th>\n",
       "      <td>NaN</td>\n",
       "      <td>1.73669</td>\n",
       "    </tr>\n",
       "    <tr>\n",
       "      <th>Luxembourg</th>\n",
       "      <td>14695.69977</td>\n",
       "      <td>1.60177</td>\n",
       "    </tr>\n",
       "    <tr>\n",
       "      <th>Netherlands</th>\n",
       "      <td>11601.47373</td>\n",
       "      <td>1.58958</td>\n",
       "    </tr>\n",
       "  </tbody>\n",
       "</table>\n",
       "</div>"
      ],
      "text/plain": [
       "                  CO$_2$   N$_2$O\n",
       "Estonia      14759.47137  2.10151\n",
       "Italy                NaN  1.73669\n",
       "Luxembourg   14695.69977  1.60177\n",
       "Netherlands  11601.47373  1.58958"
      ]
     },
     "execution_count": 15,
     "metadata": {},
     "output_type": "execute_result"
    }
   ],
   "source": [
    "emissions.loc['Estonia':'Netherlands']"
   ]
  },
  {
   "cell_type": "code",
   "execution_count": 16,
   "metadata": {
    "slideshow": {
     "slide_type": "fragment"
    }
   },
   "outputs": [
    {
     "data": {
      "text/html": [
       "<div>\n",
       "<style scoped>\n",
       "    .dataframe tbody tr th:only-of-type {\n",
       "        vertical-align: middle;\n",
       "    }\n",
       "\n",
       "    .dataframe tbody tr th {\n",
       "        vertical-align: top;\n",
       "    }\n",
       "\n",
       "    .dataframe thead th {\n",
       "        text-align: right;\n",
       "    }\n",
       "</style>\n",
       "<table border=\"1\" class=\"dataframe\">\n",
       "  <thead>\n",
       "    <tr style=\"text-align: right;\">\n",
       "      <th></th>\n",
       "      <th>CO$_2$</th>\n",
       "      <th>N$_2$O</th>\n",
       "    </tr>\n",
       "  </thead>\n",
       "  <tbody>\n",
       "    <tr>\n",
       "      <th>Estonia</th>\n",
       "      <td>14759.47137</td>\n",
       "      <td>2.10151</td>\n",
       "    </tr>\n",
       "    <tr>\n",
       "      <th>Italy</th>\n",
       "      <td>NaN</td>\n",
       "      <td>1.73669</td>\n",
       "    </tr>\n",
       "    <tr>\n",
       "      <th>Luxembourg</th>\n",
       "      <td>14695.69977</td>\n",
       "      <td>1.60177</td>\n",
       "    </tr>\n",
       "  </tbody>\n",
       "</table>\n",
       "</div>"
      ],
      "text/plain": [
       "                 CO$_2$   N$_2$O\n",
       "Estonia     14759.47137  2.10151\n",
       "Italy               NaN  1.73669\n",
       "Luxembourg  14695.69977  1.60177"
      ]
     },
     "execution_count": 16,
     "metadata": {},
     "output_type": "execute_result"
    }
   ],
   "source": [
    "emissions.iloc[0:3] # similar to numpy slicing"
   ]
  },
  {
   "cell_type": "code",
   "execution_count": 17,
   "metadata": {
    "slideshow": {
     "slide_type": "fragment"
    }
   },
   "outputs": [
    {
     "data": {
      "text/plain": [
       "Estonia        14759.47137\n",
       "Italy                  NaN\n",
       "Luxembourg     14695.69977\n",
       "Netherlands    11601.47373\n",
       "Sweden          5296.85373\n",
       "Name: CO$_2$, dtype: float64"
      ]
     },
     "execution_count": 17,
     "metadata": {},
     "output_type": "execute_result"
    }
   ],
   "source": [
    "emissions['CO$_2$']"
   ]
  },
  {
   "cell_type": "markdown",
   "metadata": {
    "slideshow": {
     "slide_type": "slide"
    }
   },
   "source": [
    "If the column name is a string and is not a method of the `DataFrame`, we can get the column as `DataFrame.column_name`<br>\n",
    "We create an additional column where CO$_2$ emissions are expressed in tonnes"
   ]
  },
  {
   "cell_type": "code",
   "execution_count": 18,
   "metadata": {
    "slideshow": {
     "slide_type": "fragment"
    }
   },
   "outputs": [
    {
     "data": {
      "text/plain": [
       "Estonia         19401989.0\n",
       "Italy                  NaN\n",
       "Luxembourg        175497.0\n",
       "Netherlands    195658947.0\n",
       "Sweden          51358876.0\n",
       "Name: tonnes_co2, dtype: float64"
      ]
     },
     "execution_count": 18,
     "metadata": {},
     "output_type": "execute_result"
    }
   ],
   "source": [
    "emissions['tonnes_co2'] = [19401989, np.nan, 175497,195658947,51358876]\n",
    "emissions.tonnes_co2"
   ]
  },
  {
   "cell_type": "code",
   "execution_count": 19,
   "metadata": {
    "slideshow": {
     "slide_type": "fragment"
    }
   },
   "outputs": [
    {
     "data": {
      "text/html": [
       "<div>\n",
       "<style scoped>\n",
       "    .dataframe tbody tr th:only-of-type {\n",
       "        vertical-align: middle;\n",
       "    }\n",
       "\n",
       "    .dataframe tbody tr th {\n",
       "        vertical-align: top;\n",
       "    }\n",
       "\n",
       "    .dataframe thead th {\n",
       "        text-align: right;\n",
       "    }\n",
       "</style>\n",
       "<table border=\"1\" class=\"dataframe\">\n",
       "  <thead>\n",
       "    <tr style=\"text-align: right;\">\n",
       "      <th></th>\n",
       "      <th>CO$_2$</th>\n",
       "      <th>N$_2$O</th>\n",
       "      <th>tonnes_co2</th>\n",
       "    </tr>\n",
       "  </thead>\n",
       "  <tbody>\n",
       "    <tr>\n",
       "      <th>Sweden</th>\n",
       "      <td>5296.85373</td>\n",
       "      <td>1.73669</td>\n",
       "      <td>51358876.0</td>\n",
       "    </tr>\n",
       "  </tbody>\n",
       "</table>\n",
       "</div>"
      ],
      "text/plain": [
       "            CO$_2$   N$_2$O  tonnes_co2\n",
       "Sweden  5296.85373  1.73669  51358876.0"
      ]
     },
     "execution_count": 19,
     "metadata": {},
     "output_type": "execute_result"
    }
   ],
   "source": [
    "emissions[emissions['CO$_2$']<1e4] # similar to masking numpy arrays"
   ]
  },
  {
   "cell_type": "markdown",
   "metadata": {
    "slideshow": {
     "slide_type": "slide"
    }
   },
   "source": [
    "We compute the number of inhabitants from the 1st and 3rd column"
   ]
  },
  {
   "cell_type": "code",
   "execution_count": 20,
   "metadata": {
    "slideshow": {
     "slide_type": "fragment"
    }
   },
   "outputs": [
    {
     "data": {
      "text/html": [
       "<div>\n",
       "<style scoped>\n",
       "    .dataframe tbody tr th:only-of-type {\n",
       "        vertical-align: middle;\n",
       "    }\n",
       "\n",
       "    .dataframe tbody tr th {\n",
       "        vertical-align: top;\n",
       "    }\n",
       "\n",
       "    .dataframe thead th {\n",
       "        text-align: right;\n",
       "    }\n",
       "</style>\n",
       "<table border=\"1\" class=\"dataframe\">\n",
       "  <thead>\n",
       "    <tr style=\"text-align: right;\">\n",
       "      <th></th>\n",
       "      <th>CO$_2$</th>\n",
       "      <th>N$_2$O</th>\n",
       "      <th>tonnes_co2</th>\n",
       "      <th>population</th>\n",
       "    </tr>\n",
       "  </thead>\n",
       "  <tbody>\n",
       "    <tr>\n",
       "      <th>Estonia</th>\n",
       "      <td>14759.47137</td>\n",
       "      <td>2.10151</td>\n",
       "      <td>19401989.0</td>\n",
       "      <td>1.314545e+06</td>\n",
       "    </tr>\n",
       "    <tr>\n",
       "      <th>Italy</th>\n",
       "      <td>NaN</td>\n",
       "      <td>1.73669</td>\n",
       "      <td>NaN</td>\n",
       "      <td>NaN</td>\n",
       "    </tr>\n",
       "    <tr>\n",
       "      <th>Luxembourg</th>\n",
       "      <td>14695.69977</td>\n",
       "      <td>1.60177</td>\n",
       "      <td>175497.0</td>\n",
       "      <td>1.194206e+04</td>\n",
       "    </tr>\n",
       "    <tr>\n",
       "      <th>Netherlands</th>\n",
       "      <td>11601.47373</td>\n",
       "      <td>1.58958</td>\n",
       "      <td>195658947.0</td>\n",
       "      <td>1.686501e+07</td>\n",
       "    </tr>\n",
       "    <tr>\n",
       "      <th>Sweden</th>\n",
       "      <td>5296.85373</td>\n",
       "      <td>1.73669</td>\n",
       "      <td>51358876.0</td>\n",
       "      <td>9.696110e+06</td>\n",
       "    </tr>\n",
       "  </tbody>\n",
       "</table>\n",
       "</div>"
      ],
      "text/plain": [
       "                  CO$_2$   N$_2$O   tonnes_co2    population\n",
       "Estonia      14759.47137  2.10151   19401989.0  1.314545e+06\n",
       "Italy                NaN  1.73669          NaN           NaN\n",
       "Luxembourg   14695.69977  1.60177     175497.0  1.194206e+04\n",
       "Netherlands  11601.47373  1.58958  195658947.0  1.686501e+07\n",
       "Sweden        5296.85373  1.73669   51358876.0  9.696110e+06"
      ]
     },
     "execution_count": 20,
     "metadata": {},
     "output_type": "execute_result"
    }
   ],
   "source": [
    "emissions['population'] = emissions.tonnes_co2 / emissions['CO$_2$'] * 1e3\n",
    "emissions"
   ]
  },
  {
   "cell_type": "markdown",
   "metadata": {
    "slideshow": {
     "slide_type": "slide"
    }
   },
   "source": [
    "### Case Study: Individual Temperature Observations from [Bolin Centre Database](http://bolin.su.se/data/stockholm)"
   ]
  },
  {
   "cell_type": "code",
   "execution_count": 6,
   "metadata": {},
   "outputs": [],
   "source": [
    "## 1859- 1960\n",
    "url = 'http://bolin.su.se/data/stockholm/files/stockholm-historical-weather-observations-ver-1.0.2016/temperature/daily/raw/stockholm_daily_temp_obs_1859_1960_t1t2t3txtn.txt'\n",
    "temp1859_1960 = pd.read_table(url,header=None,engine='python',delim_whitespace=True,\n",
    "                     names=['year','month','day','morning','noon','evening','tmax','tmin'])"
   ]
  },
  {
   "cell_type": "code",
   "execution_count": 7,
   "metadata": {},
   "outputs": [],
   "source": [
    "## 1961 - 2012\n",
    "url = 'http://bolin.su.se/data/stockholm/files/stockholm-historical-weather-observations-ver-1.0.2016/temperature/daily/raw/stockholm_daily_temp_obs_1961_2012_t1t2t3txtntm.txt'\n",
    "temp1961_2012 = pd.read_table(url,header=None,engine='python',delim_whitespace=True,\n",
    "                     names=['year','month','day','morning','noon','evening','tmax','tmin','estimated diurnal mean'])"
   ]
  },
  {
   "cell_type": "code",
   "execution_count": 9,
   "metadata": {},
   "outputs": [],
   "source": [
    "## 2013 - 2017\n",
    "url = 'http://bolin.su.se/data/stockholm/files/stockholm-historical-weather-observations-2017/temperature/daily/raw/stockholm_daily_temp_obs_2013_2017_t1t2t3txtntm.txt'\n",
    "temp2013_2017 = pd.read_table(url,header=None,engine='python',delim_whitespace=True,\n",
    "                     names=['year','month','day','morning','noon','evening','tmax','tmin','estimated diurnal mean'])"
   ]
  },
  {
   "cell_type": "markdown",
   "metadata": {
    "slideshow": {
     "slide_type": "slide"
    }
   },
   "source": [
    "Now we can turn the dates into indices and keep the temperatures as columns"
   ]
  },
  {
   "cell_type": "code",
   "execution_count": 10,
   "metadata": {
    "slideshow": {
     "slide_type": "fragment"
    }
   },
   "outputs": [],
   "source": [
    "temp1859_1960.set_index(['year','month','day'],inplace=True)\n",
    "temp1961_2012.set_index(['year','month','day'],inplace=True)\n",
    "temp2013_2017.set_index(['year','month','day'],inplace=True)"
   ]
  },
  {
   "cell_type": "markdown",
   "metadata": {
    "slideshow": {
     "slide_type": "fragment"
    }
   },
   "source": [
    "`Dataframes` are concatenated into a single `Dataframe`"
   ]
  },
  {
   "cell_type": "code",
   "execution_count": 11,
   "metadata": {
    "slideshow": {
     "slide_type": "fragment"
    }
   },
   "outputs": [
    {
     "data": {
      "text/html": [
       "<div>\n",
       "<style scoped>\n",
       "    .dataframe tbody tr th:only-of-type {\n",
       "        vertical-align: middle;\n",
       "    }\n",
       "\n",
       "    .dataframe tbody tr th {\n",
       "        vertical-align: top;\n",
       "    }\n",
       "\n",
       "    .dataframe thead th {\n",
       "        text-align: right;\n",
       "    }\n",
       "</style>\n",
       "<table border=\"1\" class=\"dataframe\">\n",
       "  <thead>\n",
       "    <tr style=\"text-align: right;\">\n",
       "      <th></th>\n",
       "      <th></th>\n",
       "      <th></th>\n",
       "      <th>estimated diurnal mean</th>\n",
       "      <th>evening</th>\n",
       "      <th>morning</th>\n",
       "      <th>noon</th>\n",
       "      <th>tmax</th>\n",
       "      <th>tmin</th>\n",
       "    </tr>\n",
       "    <tr>\n",
       "      <th>year</th>\n",
       "      <th>month</th>\n",
       "      <th>day</th>\n",
       "      <th></th>\n",
       "      <th></th>\n",
       "      <th></th>\n",
       "      <th></th>\n",
       "      <th></th>\n",
       "      <th></th>\n",
       "    </tr>\n",
       "  </thead>\n",
       "  <tbody>\n",
       "    <tr>\n",
       "      <th rowspan=\"5\" valign=\"top\">2017</th>\n",
       "      <th rowspan=\"5\" valign=\"top\">12</th>\n",
       "      <th>27</th>\n",
       "      <td>3.2</td>\n",
       "      <td>3.1</td>\n",
       "      <td>3.0</td>\n",
       "      <td>3.5</td>\n",
       "      <td>4.4</td>\n",
       "      <td>2.6</td>\n",
       "    </tr>\n",
       "    <tr>\n",
       "      <th>28</th>\n",
       "      <td>4.5</td>\n",
       "      <td>4.8</td>\n",
       "      <td>4.3</td>\n",
       "      <td>4.9</td>\n",
       "      <td>5.5</td>\n",
       "      <td>3.0</td>\n",
       "    </tr>\n",
       "    <tr>\n",
       "      <th>29</th>\n",
       "      <td>3.1</td>\n",
       "      <td>3.1</td>\n",
       "      <td>2.9</td>\n",
       "      <td>2.7</td>\n",
       "      <td>4.8</td>\n",
       "      <td>2.6</td>\n",
       "    </tr>\n",
       "    <tr>\n",
       "      <th>30</th>\n",
       "      <td>2.0</td>\n",
       "      <td>2.7</td>\n",
       "      <td>1.4</td>\n",
       "      <td>1.5</td>\n",
       "      <td>3.2</td>\n",
       "      <td>1.0</td>\n",
       "    </tr>\n",
       "    <tr>\n",
       "      <th>31</th>\n",
       "      <td>2.8</td>\n",
       "      <td>3.0</td>\n",
       "      <td>2.5</td>\n",
       "      <td>3.2</td>\n",
       "      <td>3.4</td>\n",
       "      <td>2.2</td>\n",
       "    </tr>\n",
       "  </tbody>\n",
       "</table>\n",
       "</div>"
      ],
      "text/plain": [
       "                estimated diurnal mean  evening  morning  noon  tmax  tmin\n",
       "year month day                                                            \n",
       "2017 12    27                      3.2      3.1      3.0   3.5   4.4   2.6\n",
       "           28                      4.5      4.8      4.3   4.9   5.5   3.0\n",
       "           29                      3.1      3.1      2.9   2.7   4.8   2.6\n",
       "           30                      2.0      2.7      1.4   1.5   3.2   1.0\n",
       "           31                      2.8      3.0      2.5   3.2   3.4   2.2"
      ]
     },
     "execution_count": 11,
     "metadata": {},
     "output_type": "execute_result"
    }
   ],
   "source": [
    "temp = pd.concat([temp1859_1960,temp1961_2012,temp2013_2017])\n",
    "temp.tail()"
   ]
  },
  {
   "cell_type": "markdown",
   "metadata": {
    "slideshow": {
     "slide_type": "slide"
    }
   },
   "source": [
    "Save tab-separated value file"
   ]
  },
  {
   "cell_type": "code",
   "execution_count": 12,
   "metadata": {
    "slideshow": {
     "slide_type": "fragment"
    }
   },
   "outputs": [
    {
     "name": "stderr",
     "output_type": "stream",
     "text": [
      "'head' is not recognized as an internal or external command,\n",
      "operable program or batch file.\n"
     ]
    }
   ],
   "source": [
    "# reset_index() turns the indeces into columns\n",
    "temperatureData_2d = temp.reset_index()\n",
    "temperatureData_2d = temperatureData_2d[['year','tmax']]\n",
    "# we save as tab-separated values all tmax for all years\n",
    "temperatureData_2d.to_csv('temperatureData_2d.csv', sep='\\t',index=False,na_rep=np.nan)\n",
    "!head -n 5 temperatureData_2d.csv"
   ]
  },
  {
   "cell_type": "markdown",
   "metadata": {
    "slideshow": {
     "slide_type": "slide"
    }
   },
   "source": [
    "#### Seaborn allows you to plot `DataFrames` directly"
   ]
  },
  {
   "cell_type": "code",
   "execution_count": 13,
   "metadata": {
    "slideshow": {
     "slide_type": "fragment"
    }
   },
   "outputs": [
    {
     "data": {
      "image/png": "[encoded data removed]",
      "text/plain": [
       "<Figure size 432x432 with 3 Axes>"
      ]
     },
     "metadata": {},
     "output_type": "display_data"
    }
   ],
   "source": [
    "# here we plot the joint distributions between tmax and tmin \n",
    "ax = sns.jointplot('tmin','tmax',data=temp.reset_index(),kind='hex')\n",
    "ax.set_axis_labels(xlabel='$T_{min}$ ($^{\\circ}C$)', ylabel='$T_{max}$ ($^{\\circ}C$)')\n",
    "plt.show()"
   ]
  },
  {
   "cell_type": "markdown",
   "metadata": {
    "slideshow": {
     "slide_type": "slide"
    }
   },
   "source": [
    "`GroupBy` and `mean()` allow us to group by an index (year) and calculate the mean of records from a column (tmax).<br>\n",
    "This is a simple way to extraxt a `Series` averaging over sets of values in the `DataFrame`.<br>\n",
    "We smoothen the curve using a LOWESS function (Locally Weighted Scatterplot Smoothing)."
   ]
  },
  {
   "cell_type": "code",
   "execution_count": 14,
   "metadata": {
    "slideshow": {
     "slide_type": "fragment"
    }
   },
   "outputs": [],
   "source": [
    "import statsmodels.api as sm\n",
    "lowess = sm.nonparametric.lowess"
   ]
  },
  {
   "cell_type": "code",
   "execution_count": 15,
   "metadata": {
    "slideshow": {
     "slide_type": "slide"
    }
   },
   "outputs": [
    {
     "data": {
      "image/png": "[encoded data removed]",
      "text/plain": [
       "<Figure size 432x288 with 1 Axes>"
      ]
     },
     "metadata": {},
     "output_type": "display_data"
    }
   ],
   "source": [
    "tmax_year_mean = temp.groupby('year')['tmax'].mean()\n",
    "plt.plot(tmax_year_mean.index,tmax_year_mean.values,label='Mean $T_{max}$',lw=2,color='grey')\n",
    "mean_lowess_STHLM = lowess(tmax_year_mean.values,tmax_year_mean.index,frac=0.5)\n",
    "plt.plot(mean_lowess_STHLM[:,0],mean_lowess_STHLM[:,1],label='Mean $T_{max}$ with LOWESS',lw=4,color='k')\n",
    "plt.legend(frameon=False)\n",
    "plt.xlabel('Year'); plt.ylabel('Mean of $T_{max}$ ($^\\circ$C)')\n",
    "plt.title('Stockholm - yearly mean temperature'); plt.ylim(7,13); plt.show()"
   ]
  },
  {
   "cell_type": "markdown",
   "metadata": {
    "slideshow": {
     "slide_type": "slide"
    },
    "solution2": "hidden",
    "solution2_first": true
   },
   "source": [
    "#### Task: use `GroupBy`,  `mean()`, and `std()` to group by year and calculate the mean and standard deviation of the mean of morning, noon, and evening temperatures. Plot the data with `Matplotlib`.<br>"
   ]
  },
  {
   "cell_type": "code",
   "execution_count": 16,
   "metadata": {
    "slideshow": {
     "slide_type": "fragment"
    },
    "solution2": "hidden"
   },
   "outputs": [
    {
     "data": {
      "image/png": "[encoded data removed]",
      "text/plain": [
       "<Figure size 432x288 with 1 Axes>"
      ]
     },
     "metadata": {},
     "output_type": "display_data"
    }
   ],
   "source": [
    "for i,c in zip(['morning','noon','evening'],plt.rcParams['axes.prop_cycle'].by_key()['color']):\n",
    "    mean = temp.groupby('year')[i].mean()\n",
    "    std = temp.groupby('year')[i].std()/np.sqrt(temp.groupby('year')[i].count())\n",
    "    plt.errorbar(mean.index,mean.values,std.values,label=i,lw=0,marker='o',color=c,\n",
    "                ms=3, elinewidth=1., capsize=3, capthick=1.)\n",
    "    lowess_mean = lowess(mean.values,mean.index,frac=0.5)\n",
    "    plt.plot(lowess_mean[:,0],lowess_mean[:,1],label=i+' LOWESS',lw=4,color=c)\n",
    "plt.legend(frameon=False, ncol=2)\n",
    "plt.xlabel('Year'); \n",
    "plt.ylabel(r'$\\langle T \\rangle$ ($^\\circ$C)'); \n",
    "plt.ylim(2,15); \n",
    "plt.show()"
   ]
  },
  {
   "cell_type": "markdown",
   "metadata": {
    "slideshow": {
     "slide_type": "slide"
    }
   },
   "source": [
    "To compute the monthly $T_{max}$, use either `GroupBy` and the `aggregate()` method, or use the convenient `pivot_table` method which groups entries into 2D tables."
   ]
  },
  {
   "cell_type": "code",
   "execution_count": 17,
   "metadata": {
    "slideshow": {
     "slide_type": "fragment"
    }
   },
   "outputs": [
    {
     "data": {
      "text/html": [
       "<div>\n",
       "<style scoped>\n",
       "    .dataframe tbody tr th:only-of-type {\n",
       "        vertical-align: middle;\n",
       "    }\n",
       "\n",
       "    .dataframe tbody tr th {\n",
       "        vertical-align: top;\n",
       "    }\n",
       "\n",
       "    .dataframe thead th {\n",
       "        text-align: right;\n",
       "    }\n",
       "</style>\n",
       "<table border=\"1\" class=\"dataframe\">\n",
       "  <thead>\n",
       "    <tr style=\"text-align: right;\">\n",
       "      <th>month</th>\n",
       "      <th>1</th>\n",
       "      <th>2</th>\n",
       "      <th>3</th>\n",
       "      <th>4</th>\n",
       "      <th>5</th>\n",
       "      <th>6</th>\n",
       "      <th>7</th>\n",
       "      <th>8</th>\n",
       "      <th>9</th>\n",
       "      <th>10</th>\n",
       "      <th>11</th>\n",
       "      <th>12</th>\n",
       "    </tr>\n",
       "    <tr>\n",
       "      <th>year</th>\n",
       "      <th></th>\n",
       "      <th></th>\n",
       "      <th></th>\n",
       "      <th></th>\n",
       "      <th></th>\n",
       "      <th></th>\n",
       "      <th></th>\n",
       "      <th></th>\n",
       "      <th></th>\n",
       "      <th></th>\n",
       "      <th></th>\n",
       "      <th></th>\n",
       "    </tr>\n",
       "  </thead>\n",
       "  <tbody>\n",
       "    <tr>\n",
       "      <th>1859</th>\n",
       "      <td>8.0</td>\n",
       "      <td>6.5</td>\n",
       "      <td>9.5</td>\n",
       "      <td>16.0</td>\n",
       "      <td>26.0</td>\n",
       "      <td>27.2</td>\n",
       "      <td>29.8</td>\n",
       "      <td>27.4</td>\n",
       "      <td>20.2</td>\n",
       "      <td>15.0</td>\n",
       "      <td>10.4</td>\n",
       "      <td>5.0</td>\n",
       "    </tr>\n",
       "    <tr>\n",
       "      <th>1860</th>\n",
       "      <td>5.1</td>\n",
       "      <td>2.5</td>\n",
       "      <td>6.3</td>\n",
       "      <td>14.0</td>\n",
       "      <td>19.0</td>\n",
       "      <td>25.1</td>\n",
       "      <td>27.7</td>\n",
       "      <td>23.0</td>\n",
       "      <td>20.2</td>\n",
       "      <td>12.0</td>\n",
       "      <td>7.0</td>\n",
       "      <td>3.8</td>\n",
       "    </tr>\n",
       "    <tr>\n",
       "      <th>1861</th>\n",
       "      <td>2.0</td>\n",
       "      <td>6.6</td>\n",
       "      <td>7.5</td>\n",
       "      <td>12.8</td>\n",
       "      <td>19.0</td>\n",
       "      <td>30.2</td>\n",
       "      <td>29.0</td>\n",
       "      <td>25.0</td>\n",
       "      <td>17.7</td>\n",
       "      <td>15.5</td>\n",
       "      <td>9.8</td>\n",
       "      <td>6.8</td>\n",
       "    </tr>\n",
       "  </tbody>\n",
       "</table>\n",
       "</div>"
      ],
      "text/plain": [
       "month   1    2    3     4     5     6     7     8     9     10    11   12\n",
       "year                                                                     \n",
       "1859   8.0  6.5  9.5  16.0  26.0  27.2  29.8  27.4  20.2  15.0  10.4  5.0\n",
       "1860   5.1  2.5  6.3  14.0  19.0  25.1  27.7  23.0  20.2  12.0   7.0  3.8\n",
       "1861   2.0  6.6  7.5  12.8  19.0  30.2  29.0  25.0  17.7  15.5   9.8  6.8"
      ]
     },
     "execution_count": 17,
     "metadata": {},
     "output_type": "execute_result"
    }
   ],
   "source": [
    "temp.groupby(['year','month'])['tmax'].aggregate('max').unstack()[:3]"
   ]
  },
  {
   "cell_type": "code",
   "execution_count": 19,
   "metadata": {
    "slideshow": {
     "slide_type": "fragment"
    }
   },
   "outputs": [
    {
     "data": {
      "text/html": [
       "<div>\n",
       "<style scoped>\n",
       "    .dataframe tbody tr th:only-of-type {\n",
       "        vertical-align: middle;\n",
       "    }\n",
       "\n",
       "    .dataframe tbody tr th {\n",
       "        vertical-align: top;\n",
       "    }\n",
       "\n",
       "    .dataframe thead th {\n",
       "        text-align: right;\n",
       "    }\n",
       "</style>\n",
       "<table border=\"1\" class=\"dataframe\">\n",
       "  <thead>\n",
       "    <tr style=\"text-align: right;\">\n",
       "      <th>month</th>\n",
       "      <th>1</th>\n",
       "      <th>2</th>\n",
       "      <th>3</th>\n",
       "      <th>4</th>\n",
       "      <th>5</th>\n",
       "      <th>6</th>\n",
       "      <th>7</th>\n",
       "      <th>8</th>\n",
       "      <th>9</th>\n",
       "      <th>10</th>\n",
       "      <th>11</th>\n",
       "      <th>12</th>\n",
       "    </tr>\n",
       "    <tr>\n",
       "      <th>year</th>\n",
       "      <th></th>\n",
       "      <th></th>\n",
       "      <th></th>\n",
       "      <th></th>\n",
       "      <th></th>\n",
       "      <th></th>\n",
       "      <th></th>\n",
       "      <th></th>\n",
       "      <th></th>\n",
       "      <th></th>\n",
       "      <th></th>\n",
       "      <th></th>\n",
       "    </tr>\n",
       "  </thead>\n",
       "  <tbody>\n",
       "    <tr>\n",
       "      <th>1859</th>\n",
       "      <td>8.0</td>\n",
       "      <td>6.5</td>\n",
       "      <td>9.5</td>\n",
       "      <td>16.0</td>\n",
       "      <td>26.0</td>\n",
       "      <td>27.2</td>\n",
       "      <td>29.8</td>\n",
       "      <td>27.4</td>\n",
       "      <td>20.2</td>\n",
       "      <td>15.0</td>\n",
       "      <td>10.4</td>\n",
       "      <td>5.0</td>\n",
       "    </tr>\n",
       "    <tr>\n",
       "      <th>1860</th>\n",
       "      <td>5.1</td>\n",
       "      <td>2.5</td>\n",
       "      <td>6.3</td>\n",
       "      <td>14.0</td>\n",
       "      <td>19.0</td>\n",
       "      <td>25.1</td>\n",
       "      <td>27.7</td>\n",
       "      <td>23.0</td>\n",
       "      <td>20.2</td>\n",
       "      <td>12.0</td>\n",
       "      <td>7.0</td>\n",
       "      <td>3.8</td>\n",
       "    </tr>\n",
       "    <tr>\n",
       "      <th>1861</th>\n",
       "      <td>2.0</td>\n",
       "      <td>6.6</td>\n",
       "      <td>7.5</td>\n",
       "      <td>12.8</td>\n",
       "      <td>19.0</td>\n",
       "      <td>30.2</td>\n",
       "      <td>29.0</td>\n",
       "      <td>25.0</td>\n",
       "      <td>17.7</td>\n",
       "      <td>15.5</td>\n",
       "      <td>9.8</td>\n",
       "      <td>6.8</td>\n",
       "    </tr>\n",
       "  </tbody>\n",
       "</table>\n",
       "</div>"
      ],
      "text/plain": [
       "month   1    2    3     4     5     6     7     8     9     10    11   12\n",
       "year                                                                     \n",
       "1859   8.0  6.5  9.5  16.0  26.0  27.2  29.8  27.4  20.2  15.0  10.4  5.0\n",
       "1860   5.1  2.5  6.3  14.0  19.0  25.1  27.7  23.0  20.2  12.0   7.0  3.8\n",
       "1861   2.0  6.6  7.5  12.8  19.0  30.2  29.0  25.0  17.7  15.5   9.8  6.8"
      ]
     },
     "execution_count": 19,
     "metadata": {},
     "output_type": "execute_result"
    }
   ],
   "source": [
    "temp.pivot_table('tmax',index='year',columns='month',aggfunc='max')[:3]"
   ]
  },
  {
   "cell_type": "markdown",
   "metadata": {
    "slideshow": {
     "slide_type": "slide"
    }
   },
   "source": [
    "### Case Study: Data on Waste Generation from [eurostat](http://ec.europa.eu/eurostat/data/database)\n",
    "<img src=\"eurostat.png\" width=\"1000\" />"
   ]
  },
  {
   "cell_type": "markdown",
   "metadata": {
    "slideshow": {
     "slide_type": "slide"
    }
   },
   "source": [
    "In this case study, we are going to analyze a data set on waste generated by EU countries categorized by economic activity, waste category, and hazard.<br>\n",
    "The data set contains more than one million entries.<br>\n",
    "We are going to load, parse, save, explore, and plot the data that has been downloaded from the European Commission website as a tab-separated values file. "
   ]
  },
  {
   "cell_type": "code",
   "execution_count": 34,
   "metadata": {
    "slideshow": {
     "slide_type": "slide"
    }
   },
   "outputs": [
    {
     "name": "stderr",
     "output_type": "stream",
     "text": [
      "'head' is not recognized as an internal or external command,\n",
      "operable program or batch file.\n"
     ]
    }
   ],
   "source": [
    "!head -n 5 env_wasgen.tsv"
   ]
  },
  {
   "cell_type": "markdown",
   "metadata": {
    "slideshow": {
     "slide_type": "fragment"
    }
   },
   "source": [
    "Both comma- and tab-separated column names in the header"
   ]
  },
  {
   "cell_type": "code",
   "execution_count": 35,
   "metadata": {
    "slideshow": {
     "slide_type": "fragment"
    }
   },
   "outputs": [],
   "source": [
    "df = pd.read_table('env_wasgen.tsv',header=0,sep=',|\\t',engine='python')"
   ]
  },
  {
   "cell_type": "code",
   "execution_count": 36,
   "metadata": {
    "slideshow": {
     "slide_type": "fragment"
    }
   },
   "outputs": [
    {
     "data": {
      "text/plain": [
       "array(['unit', 'hazard', 'nace_r2', 'waste', 'geo\\\\time', '2014 ',\n",
       "       '2012 ', '2010 ', '2008 ', '2006 ', '2004'], dtype=object)"
      ]
     },
     "execution_count": 36,
     "metadata": {},
     "output_type": "execute_result"
    }
   ],
   "source": [
    "df.columns.values"
   ]
  },
  {
   "cell_type": "markdown",
   "metadata": {
    "slideshow": {
     "slide_type": "slide"
    }
   },
   "source": [
    "We can also rename the column labels"
   ]
  },
  {
   "cell_type": "code",
   "execution_count": 37,
   "metadata": {
    "slideshow": {
     "slide_type": "fragment"
    }
   },
   "outputs": [],
   "source": [
    "df = pd.read_table('env_wasgen.tsv',header=0,sep=',|\\t',engine='python',\n",
    "                  names=['unit','hazard','nace_r2','waste','country','2014','2012','2010','2008','2006','2004'])"
   ]
  },
  {
   "cell_type": "code",
   "execution_count": 38,
   "metadata": {
    "slideshow": {
     "slide_type": "fragment"
    }
   },
   "outputs": [
    {
     "data": {
      "text/plain": [
       "array(['unit', 'hazard', 'nace_r2', 'waste', 'country', '2014', '2012',\n",
       "       '2010', '2008', '2006', '2004'], dtype=object)"
      ]
     },
     "execution_count": 38,
     "metadata": {},
     "output_type": "execute_result"
    }
   ],
   "source": [
    "df.columns.values"
   ]
  },
  {
   "cell_type": "code",
   "execution_count": 39,
   "metadata": {},
   "outputs": [
    {
     "data": {
      "text/plain": [
       "(192476, 11)"
      ]
     },
     "execution_count": 39,
     "metadata": {},
     "output_type": "execute_result"
    }
   ],
   "source": [
    "df.shape"
   ]
  },
  {
   "cell_type": "markdown",
   "metadata": {
    "slideshow": {
     "slide_type": "slide"
    }
   },
   "source": [
    "NACE is the statistical classification of economic activities in the European Community<br>\n",
    "* TOTAL_HH is all NACE activities plus households\n",
    "* EP_HH is households\n",
    "* A is agriculture, forestry and fishing \n",
    "* B is mining and quarrying\n",
    "* C is manufacturing\n",
    "* F\tis construction"
   ]
  },
  {
   "cell_type": "markdown",
   "metadata": {
    "slideshow": {
     "slide_type": "slide"
    }
   },
   "source": [
    "Waste Categories"
   ]
  },
  {
   "cell_type": "code",
   "execution_count": 40,
   "metadata": {
    "slideshow": {
     "slide_type": "fragment"
    }
   },
   "outputs": [
    {
     "data": {
      "text/plain": [
       "array(['TOTAL', 'TOT_X_MIN', 'W01-05', 'W011', 'W012', 'W013', 'W02A',\n",
       "       'W032', 'W033', 'W05', 'W06', 'W061', 'W062', 'W063', 'W06_07A',\n",
       "       'W071', 'W072', 'W073', 'W074', 'W075', 'W076', 'W077', 'W077_08',\n",
       "       'W081', 'W0841', 'W08A', 'W09', 'W091', 'W091_092', 'W092', 'W093',\n",
       "       'W10', 'W101', 'W102', 'W103', 'W11', 'W12-13', 'W121', 'W124',\n",
       "       'W126', 'W126_127', 'W127', 'W128_13', 'W12A', 'W12B',\n",
       "       'W12_X_127NH', 'W13'], dtype=object)"
      ]
     },
     "execution_count": 40,
     "metadata": {},
     "output_type": "execute_result"
    }
   ],
   "source": [
    "df.waste.unique()"
   ]
  },
  {
   "cell_type": "markdown",
   "metadata": {
    "slideshow": {
     "slide_type": "slide"
    }
   },
   "source": [
    "* W06 is metal waste\n",
    "* W07 is glass, paper, cardboard, plastic, rubber, wood, textile, and equipment (except waste containing PCB)\n",
    "* W10 is mixed ordinary wastes which includes\n",
    "    * W101 Household and similar wastes\n",
    "    * W102 Mixed and undifferentiated materials\n",
    "\t* W103 Sorting residues\n",
    "* W124 is combustion waste\n",
    "* W128_13 is mineral wastes from waste treatment and stabilised wastes\n",
    "* TOT_X_MIN is waste excluding major mineral wastes"
   ]
  },
  {
   "cell_type": "markdown",
   "metadata": {
    "slideshow": {
     "slide_type": "slide"
    }
   },
   "source": [
    "We rename some categories accordingly."
   ]
  },
  {
   "cell_type": "code",
   "execution_count": 41,
   "metadata": {
    "slideshow": {
     "slide_type": "fragment"
    }
   },
   "outputs": [],
   "source": [
    "df.loc[df.waste=='TOTAL','waste']='Total'\n",
    "df.loc[df.waste=='W06_07A','waste']='Recyclable'\n",
    "df.loc[df.waste=='W10','waste']='Mixed' \n",
    "df.loc[df.waste=='W12-13','waste']='Mineral'"
   ]
  },
  {
   "cell_type": "code",
   "execution_count": 42,
   "metadata": {
    "slideshow": {
     "slide_type": "fragment"
    }
   },
   "outputs": [
    {
     "data": {
      "text/html": [
       "<div>\n",
       "<style scoped>\n",
       "    .dataframe tbody tr th:only-of-type {\n",
       "        vertical-align: middle;\n",
       "    }\n",
       "\n",
       "    .dataframe tbody tr th {\n",
       "        vertical-align: top;\n",
       "    }\n",
       "\n",
       "    .dataframe thead th {\n",
       "        text-align: right;\n",
       "    }\n",
       "</style>\n",
       "<table border=\"1\" class=\"dataframe\">\n",
       "  <thead>\n",
       "    <tr style=\"text-align: right;\">\n",
       "      <th></th>\n",
       "      <th>unit</th>\n",
       "      <th>hazard</th>\n",
       "      <th>nace_r2</th>\n",
       "      <th>waste</th>\n",
       "      <th>country</th>\n",
       "      <th>2014</th>\n",
       "      <th>2012</th>\n",
       "      <th>2010</th>\n",
       "      <th>2008</th>\n",
       "      <th>2006</th>\n",
       "      <th>2004</th>\n",
       "    </tr>\n",
       "  </thead>\n",
       "  <tbody>\n",
       "    <tr>\n",
       "      <th>14</th>\n",
       "      <td>KG_HAB</td>\n",
       "      <td>HAZ</td>\n",
       "      <td>A</td>\n",
       "      <td>Total</td>\n",
       "      <td>HR</td>\n",
       "      <td>0</td>\n",
       "      <td>0</td>\n",
       "      <td>0</td>\n",
       "      <td>0</td>\n",
       "      <td>0</td>\n",
       "      <td>0</td>\n",
       "    </tr>\n",
       "    <tr>\n",
       "      <th>15</th>\n",
       "      <td>KG_HAB</td>\n",
       "      <td>HAZ</td>\n",
       "      <td>A</td>\n",
       "      <td>Total</td>\n",
       "      <td>HU</td>\n",
       "      <td>1</td>\n",
       "      <td>2</td>\n",
       "      <td>1</td>\n",
       "      <td>1</td>\n",
       "      <td>1</td>\n",
       "      <td>2</td>\n",
       "    </tr>\n",
       "    <tr>\n",
       "      <th>16</th>\n",
       "      <td>KG_HAB</td>\n",
       "      <td>HAZ</td>\n",
       "      <td>A</td>\n",
       "      <td>Total</td>\n",
       "      <td>IE</td>\n",
       "      <td>5</td>\n",
       "      <td>5</td>\n",
       "      <td>8</td>\n",
       "      <td>:</td>\n",
       "      <td>0</td>\n",
       "      <td>0</td>\n",
       "    </tr>\n",
       "    <tr>\n",
       "      <th>17</th>\n",
       "      <td>KG_HAB</td>\n",
       "      <td>HAZ</td>\n",
       "      <td>A</td>\n",
       "      <td>Total</td>\n",
       "      <td>IS</td>\n",
       "      <td>0 b</td>\n",
       "      <td>0</td>\n",
       "      <td>0</td>\n",
       "      <td>:</td>\n",
       "      <td>:</td>\n",
       "      <td>10</td>\n",
       "    </tr>\n",
       "    <tr>\n",
       "      <th>18</th>\n",
       "      <td>KG_HAB</td>\n",
       "      <td>HAZ</td>\n",
       "      <td>A</td>\n",
       "      <td>Total</td>\n",
       "      <td>IT</td>\n",
       "      <td>0</td>\n",
       "      <td>0</td>\n",
       "      <td>0</td>\n",
       "      <td>0</td>\n",
       "      <td>0</td>\n",
       "      <td>0</td>\n",
       "    </tr>\n",
       "    <tr>\n",
       "      <th>19</th>\n",
       "      <td>KG_HAB</td>\n",
       "      <td>HAZ</td>\n",
       "      <td>A</td>\n",
       "      <td>Total</td>\n",
       "      <td>LI</td>\n",
       "      <td>0</td>\n",
       "      <td>0</td>\n",
       "      <td>0</td>\n",
       "      <td>1</td>\n",
       "      <td>:</td>\n",
       "      <td>:</td>\n",
       "    </tr>\n",
       "  </tbody>\n",
       "</table>\n",
       "</div>"
      ],
      "text/plain": [
       "      unit hazard nace_r2  waste country 2014 2012 2010 2008 2006 2004\n",
       "14  KG_HAB    HAZ       A  Total      HR   0    0    0    0    0     0\n",
       "15  KG_HAB    HAZ       A  Total      HU   1    2    1    1    1     2\n",
       "16  KG_HAB    HAZ       A  Total      IE   5    5    8    :    0     0\n",
       "17  KG_HAB    HAZ       A  Total      IS  0 b   0    0    :    :    10\n",
       "18  KG_HAB    HAZ       A  Total      IT   0    0    0    0    0     0\n",
       "19  KG_HAB    HAZ       A  Total      LI   0    0    0    1    :     :"
      ]
     },
     "execution_count": 42,
     "metadata": {},
     "output_type": "execute_result"
    }
   ],
   "source": [
    "df.loc[14:19]"
   ]
  },
  {
   "cell_type": "code",
   "execution_count": 43,
   "metadata": {
    "slideshow": {
     "slide_type": "slide"
    }
   },
   "outputs": [
    {
     "data": {
      "text/plain": [
       "str"
      ]
     },
     "execution_count": 43,
     "metadata": {},
     "output_type": "execute_result"
    }
   ],
   "source": [
    "type(df['2014'].values[0]) # values were read as string "
   ]
  },
  {
   "cell_type": "markdown",
   "metadata": {
    "slideshow": {
     "slide_type": "fragment"
    }
   },
   "source": [
    "* The type of the values is $string$: to analyze the data (_e.g._ sorting, plotting) we need to convert them into numbers<br>\n",
    "* Some values are missing (:) or followed by a letter (_e.g._ $e$ stands for estimated, $u$ stands for low reliability).<br>\n",
    "* Forcing the conversion of all strings into numerical values (`float`), turns values followed by a letter into `NaN`s.<br>\n",
    "* We trim non-digit values using `map()`, a `lambda` function, and `strip()`.<br>\n",
    "* We use pd.to_numeric to convert."
   ]
  },
  {
   "cell_type": "code",
   "execution_count": 44,
   "metadata": {
    "slideshow": {
     "slide_type": "slide"
    }
   },
   "outputs": [
    {
     "name": "stdout",
     "output_type": "stream",
     "text": [
      "[ 1. nan  2. ... nan nan nan]\n"
     ]
    },
    {
     "data": {
      "text/plain": [
       "numpy.float64"
      ]
     },
     "execution_count": 44,
     "metadata": {},
     "output_type": "execute_result"
    }
   ],
   "source": [
    "for col in df.columns:\n",
    "    if col[0] == '2': # check the the column name starts with 2, i.e. it's a year\n",
    "        df[col] = df[col].map(lambda x: x.rstrip('bcdefinprsuz')) # remove trailing char from each value of the column\n",
    "        df[col] = pd.to_numeric(df[col], errors='coerce')\n",
    "print(df['2014'].values)\n",
    "type(df['2014'].values[0])"
   ]
  },
  {
   "cell_type": "markdown",
   "metadata": {
    "slideshow": {
     "slide_type": "slide"
    },
    "solution2": "hidden",
    "solution2_first": true
   },
   "source": [
    "#### Task: Create a `Series` from the dictionary { 'EE' : '14759.4713a', 'LU' : '195.677c', 'NL': '111.437b', 'SE': '596.8ba' } and use `map()` and `rstrip` as above to remove the characters 'abc'"
   ]
  },
  {
   "cell_type": "code",
   "execution_count": 45,
   "metadata": {},
   "outputs": [
    {
     "data": {
      "text/plain": [
       "EE    1459.4713a\n",
       "LU      195.677c\n",
       "NL      111.437b\n",
       "SE       596.8ba\n",
       "dtype: object"
      ]
     },
     "execution_count": 45,
     "metadata": {},
     "output_type": "execute_result"
    }
   ],
   "source": [
    "series = pd.Series( { 'EE' : '1459.4713a', 'LU' : '195.677c', 'NL': '111.437b', 'SE': '596.8ba' } )\n",
    "series"
   ]
  },
  {
   "cell_type": "code",
   "execution_count": 46,
   "metadata": {
    "slideshow": {
     "slide_type": "fragment"
    },
    "solution2": "hidden"
   },
   "outputs": [
    {
     "data": {
      "text/plain": [
       "EE    1459.4713\n",
       "LU      195.677\n",
       "NL      111.437\n",
       "SE        596.8\n",
       "dtype: object"
      ]
     },
     "execution_count": 46,
     "metadata": {},
     "output_type": "execute_result"
    }
   ],
   "source": [
    "def strip_abc(item):\n",
    "    return item.rstrip('abc')\n",
    "series = series.map(strip_abc)\n",
    "series"
   ]
  },
  {
   "cell_type": "markdown",
   "metadata": {
    "slideshow": {
     "slide_type": "fragment"
    },
    "solution2": "hidden"
   },
   "source": [
    "We defined the function `strip` that takes a string and uses `strip` to remove any a, b, or c character from each item of the `list` named $l$.<br>\n",
    "Instead, we can use a `lambda function`."
   ]
  },
  {
   "cell_type": "code",
   "execution_count": null,
   "metadata": {
    "slideshow": {
     "slide_type": "fragment"
    },
    "solution2": "hidden"
   },
   "outputs": [],
   "source": [
    "print( list( map(lambda item: item.strip('abc'),series) ) )"
   ]
  },
  {
   "cell_type": "markdown",
   "metadata": {
    "slideshow": {
     "slide_type": "slide"
    }
   },
   "source": [
    "#### Hazardous waste in UK\n",
    "We can now select data based on waste category, hazard, source (economic activity), country, and unit (tons or kilograms per capita)."
   ]
  },
  {
   "cell_type": "code",
   "execution_count": 47,
   "metadata": {
    "slideshow": {
     "slide_type": "fragment"
    }
   },
   "outputs": [
    {
     "data": {
      "text/html": [
       "<div>\n",
       "<style scoped>\n",
       "    .dataframe tbody tr th:only-of-type {\n",
       "        vertical-align: middle;\n",
       "    }\n",
       "\n",
       "    .dataframe tbody tr th {\n",
       "        vertical-align: top;\n",
       "    }\n",
       "\n",
       "    .dataframe thead th {\n",
       "        text-align: right;\n",
       "    }\n",
       "</style>\n",
       "<table border=\"1\" class=\"dataframe\">\n",
       "  <thead>\n",
       "    <tr style=\"text-align: right;\">\n",
       "      <th></th>\n",
       "      <th>unit</th>\n",
       "      <th>hazard</th>\n",
       "      <th>nace_r2</th>\n",
       "      <th>waste</th>\n",
       "      <th>country</th>\n",
       "      <th>2014</th>\n",
       "      <th>2012</th>\n",
       "      <th>2010</th>\n",
       "      <th>2008</th>\n",
       "      <th>2006</th>\n",
       "      <th>2004</th>\n",
       "    </tr>\n",
       "  </thead>\n",
       "  <tbody>\n",
       "    <tr>\n",
       "      <th>24396</th>\n",
       "      <td>KG_HAB</td>\n",
       "      <td>HAZ</td>\n",
       "      <td>TOTAL_HH</td>\n",
       "      <td>Total</td>\n",
       "      <td>UK</td>\n",
       "      <td>89.0</td>\n",
       "      <td>101.0</td>\n",
       "      <td>112.0</td>\n",
       "      <td>118.0</td>\n",
       "      <td>139.0</td>\n",
       "      <td>133.0</td>\n",
       "    </tr>\n",
       "    <tr>\n",
       "      <th>24434</th>\n",
       "      <td>KG_HAB</td>\n",
       "      <td>HAZ</td>\n",
       "      <td>TOTAL_HH</td>\n",
       "      <td>TOT_X_MIN</td>\n",
       "      <td>UK</td>\n",
       "      <td>74.0</td>\n",
       "      <td>82.0</td>\n",
       "      <td>93.0</td>\n",
       "      <td>93.0</td>\n",
       "      <td>130.0</td>\n",
       "      <td>125.0</td>\n",
       "    </tr>\n",
       "    <tr>\n",
       "      <th>24472</th>\n",
       "      <td>KG_HAB</td>\n",
       "      <td>HAZ</td>\n",
       "      <td>TOTAL_HH</td>\n",
       "      <td>W01-05</td>\n",
       "      <td>UK</td>\n",
       "      <td>32.0</td>\n",
       "      <td>40.0</td>\n",
       "      <td>39.0</td>\n",
       "      <td>49.0</td>\n",
       "      <td>61.0</td>\n",
       "      <td>65.0</td>\n",
       "    </tr>\n",
       "    <tr>\n",
       "      <th>24510</th>\n",
       "      <td>KG_HAB</td>\n",
       "      <td>HAZ</td>\n",
       "      <td>TOTAL_HH</td>\n",
       "      <td>W011</td>\n",
       "      <td>UK</td>\n",
       "      <td>4.0</td>\n",
       "      <td>4.0</td>\n",
       "      <td>3.0</td>\n",
       "      <td>5.0</td>\n",
       "      <td>7.0</td>\n",
       "      <td>8.0</td>\n",
       "    </tr>\n",
       "    <tr>\n",
       "      <th>24548</th>\n",
       "      <td>KG_HAB</td>\n",
       "      <td>HAZ</td>\n",
       "      <td>TOTAL_HH</td>\n",
       "      <td>W012</td>\n",
       "      <td>UK</td>\n",
       "      <td>1.0</td>\n",
       "      <td>2.0</td>\n",
       "      <td>3.0</td>\n",
       "      <td>6.0</td>\n",
       "      <td>11.0</td>\n",
       "      <td>12.0</td>\n",
       "    </tr>\n",
       "  </tbody>\n",
       "</table>\n",
       "</div>"
      ],
      "text/plain": [
       "         unit hazard   nace_r2      waste country  2014   2012   2010   2008  \\\n",
       "24396  KG_HAB    HAZ  TOTAL_HH      Total      UK  89.0  101.0  112.0  118.0   \n",
       "24434  KG_HAB    HAZ  TOTAL_HH  TOT_X_MIN      UK  74.0   82.0   93.0   93.0   \n",
       "24472  KG_HAB    HAZ  TOTAL_HH     W01-05      UK  32.0   40.0   39.0   49.0   \n",
       "24510  KG_HAB    HAZ  TOTAL_HH       W011      UK   4.0    4.0    3.0    5.0   \n",
       "24548  KG_HAB    HAZ  TOTAL_HH       W012      UK   1.0    2.0    3.0    6.0   \n",
       "\n",
       "        2006   2004  \n",
       "24396  139.0  133.0  \n",
       "24434  130.0  125.0  \n",
       "24472   61.0   65.0  \n",
       "24510    7.0    8.0  \n",
       "24548   11.0   12.0  "
      ]
     },
     "execution_count": 47,
     "metadata": {},
     "output_type": "execute_result"
    }
   ],
   "source": [
    "df.loc[(df.hazard == 'HAZ') & (df.unit == 'KG_HAB')\n",
    "        & (df.nace_r2=='TOTAL_HH') & (df.country == 'UK')][:5]"
   ]
  },
  {
   "cell_type": "markdown",
   "metadata": {
    "slideshow": {
     "slide_type": "slide"
    }
   },
   "source": [
    "### MultiIndex Creation"
   ]
  },
  {
   "cell_type": "markdown",
   "metadata": {
    "slideshow": {
     "slide_type": "fragment"
    }
   },
   "source": [
    "The first 5 columns of this multi-dimensional data are used to store the keys. Pandas provides $hierarchical$ $indexing$ to represent this data as a 2D `DataFrame`."
   ]
  },
  {
   "cell_type": "code",
   "execution_count": 48,
   "metadata": {
    "slideshow": {
     "slide_type": "fragment"
    }
   },
   "outputs": [],
   "source": [
    "df_multiple = df.set_index(['unit','hazard','nace_r2','waste','country'])"
   ]
  },
  {
   "cell_type": "code",
   "execution_count": 49,
   "metadata": {
    "slideshow": {
     "slide_type": "fragment"
    }
   },
   "outputs": [
    {
     "data": {
      "text/plain": [
       "FrozenList(['unit', 'hazard', 'nace_r2', 'waste', 'country'])"
      ]
     },
     "execution_count": 49,
     "metadata": {},
     "output_type": "execute_result"
    }
   ],
   "source": [
    "df_multiple.index.names"
   ]
  },
  {
   "cell_type": "code",
   "execution_count": 51,
   "metadata": {},
   "outputs": [
    {
     "data": {
      "text/html": [
       "<div>\n",
       "<style scoped>\n",
       "    .dataframe tbody tr th:only-of-type {\n",
       "        vertical-align: middle;\n",
       "    }\n",
       "\n",
       "    .dataframe tbody tr th {\n",
       "        vertical-align: top;\n",
       "    }\n",
       "\n",
       "    .dataframe thead th {\n",
       "        text-align: right;\n",
       "    }\n",
       "</style>\n",
       "<table border=\"1\" class=\"dataframe\">\n",
       "  <thead>\n",
       "    <tr style=\"text-align: right;\">\n",
       "      <th></th>\n",
       "      <th></th>\n",
       "      <th></th>\n",
       "      <th></th>\n",
       "      <th></th>\n",
       "      <th>2014</th>\n",
       "      <th>2012</th>\n",
       "      <th>2010</th>\n",
       "      <th>2008</th>\n",
       "      <th>2006</th>\n",
       "      <th>2004</th>\n",
       "    </tr>\n",
       "    <tr>\n",
       "      <th>unit</th>\n",
       "      <th>hazard</th>\n",
       "      <th>nace_r2</th>\n",
       "      <th>waste</th>\n",
       "      <th>country</th>\n",
       "      <th></th>\n",
       "      <th></th>\n",
       "      <th></th>\n",
       "      <th></th>\n",
       "      <th></th>\n",
       "      <th></th>\n",
       "    </tr>\n",
       "  </thead>\n",
       "  <tbody>\n",
       "    <tr>\n",
       "      <th rowspan=\"5\" valign=\"top\">KG_HAB</th>\n",
       "      <th rowspan=\"5\" valign=\"top\">HAZ</th>\n",
       "      <th rowspan=\"5\" valign=\"top\">A</th>\n",
       "      <th rowspan=\"5\" valign=\"top\">Total</th>\n",
       "      <th>AT</th>\n",
       "      <td>1.0</td>\n",
       "      <td>1.0</td>\n",
       "      <td>9.0</td>\n",
       "      <td>8.0</td>\n",
       "      <td>2.0</td>\n",
       "      <td>1.0</td>\n",
       "    </tr>\n",
       "    <tr>\n",
       "      <th>BA</th>\n",
       "      <td>NaN</td>\n",
       "      <td>0.0</td>\n",
       "      <td>NaN</td>\n",
       "      <td>NaN</td>\n",
       "      <td>NaN</td>\n",
       "      <td>NaN</td>\n",
       "    </tr>\n",
       "    <tr>\n",
       "      <th>BE</th>\n",
       "      <td>2.0</td>\n",
       "      <td>2.0</td>\n",
       "      <td>2.0</td>\n",
       "      <td>2.0</td>\n",
       "      <td>1.0</td>\n",
       "      <td>2.0</td>\n",
       "    </tr>\n",
       "    <tr>\n",
       "      <th>BG</th>\n",
       "      <td>0.0</td>\n",
       "      <td>0.0</td>\n",
       "      <td>0.0</td>\n",
       "      <td>0.0</td>\n",
       "      <td>0.0</td>\n",
       "      <td>0.0</td>\n",
       "    </tr>\n",
       "    <tr>\n",
       "      <th>CY</th>\n",
       "      <td>1.0</td>\n",
       "      <td>1.0</td>\n",
       "      <td>NaN</td>\n",
       "      <td>1.0</td>\n",
       "      <td>1.0</td>\n",
       "      <td>10.0</td>\n",
       "    </tr>\n",
       "  </tbody>\n",
       "</table>\n",
       "</div>"
      ],
      "text/plain": [
       "                                     2014  2012  2010  2008  2006  2004\n",
       "unit   hazard nace_r2 waste country                                    \n",
       "KG_HAB HAZ    A       Total AT        1.0   1.0   9.0   8.0   2.0   1.0\n",
       "                            BA        NaN   0.0   NaN   NaN   NaN   NaN\n",
       "                            BE        2.0   2.0   2.0   2.0   1.0   2.0\n",
       "                            BG        0.0   0.0   0.0   0.0   0.0   0.0\n",
       "                            CY        1.0   1.0   NaN   1.0   1.0  10.0"
      ]
     },
     "execution_count": 51,
     "metadata": {},
     "output_type": "execute_result"
    }
   ],
   "source": [
    "df_multiple.head()\n"
   ]
  },
  {
   "cell_type": "code",
   "execution_count": 50,
   "metadata": {
    "slideshow": {
     "slide_type": "fragment"
    }
   },
   "outputs": [
    {
     "data": {
      "text/plain": [
       "Index(['2014', '2012', '2010', '2008', '2006', '2004'], dtype='object')"
      ]
     },
     "execution_count": 50,
     "metadata": {},
     "output_type": "execute_result"
    }
   ],
   "source": [
    "df_multiple.columns"
   ]
  },
  {
   "cell_type": "markdown",
   "metadata": {
    "slideshow": {
     "slide_type": "slide"
    }
   },
   "source": [
    "Alternative MultiIndex Creation:"
   ]
  },
  {
   "cell_type": "code",
   "execution_count": null,
   "metadata": {
    "slideshow": {
     "slide_type": "fragment"
    }
   },
   "outputs": [],
   "source": [
    "index = pd.MultiIndex.from_arrays([df.unit,df.hazard,df.nace_r2,df.waste,df.country],\n",
    "                                  names=['unit','hazard','nace_r2','waste','country'])"
   ]
  },
  {
   "cell_type": "code",
   "execution_count": null,
   "metadata": {
    "slideshow": {
     "slide_type": "fragment"
    }
   },
   "outputs": [],
   "source": [
    "df_multiple = pd.DataFrame(df.iloc[:,5:11].values,index=index,columns=['2014','2012','2010','2008','2006','2004'])"
   ]
  },
  {
   "cell_type": "code",
   "execution_count": 52,
   "metadata": {
    "slideshow": {
     "slide_type": "slide"
    }
   },
   "outputs": [
    {
     "data": {
      "text/html": [
       "<div>\n",
       "<style scoped>\n",
       "    .dataframe tbody tr th:only-of-type {\n",
       "        vertical-align: middle;\n",
       "    }\n",
       "\n",
       "    .dataframe tbody tr th {\n",
       "        vertical-align: top;\n",
       "    }\n",
       "\n",
       "    .dataframe thead th {\n",
       "        text-align: right;\n",
       "    }\n",
       "</style>\n",
       "<table border=\"1\" class=\"dataframe\">\n",
       "  <thead>\n",
       "    <tr style=\"text-align: right;\">\n",
       "      <th></th>\n",
       "      <th></th>\n",
       "      <th></th>\n",
       "      <th></th>\n",
       "      <th></th>\n",
       "      <th>2014</th>\n",
       "      <th>2012</th>\n",
       "      <th>2010</th>\n",
       "      <th>2008</th>\n",
       "      <th>2006</th>\n",
       "      <th>2004</th>\n",
       "    </tr>\n",
       "    <tr>\n",
       "      <th>unit</th>\n",
       "      <th>hazard</th>\n",
       "      <th>nace_r2</th>\n",
       "      <th>waste</th>\n",
       "      <th>country</th>\n",
       "      <th></th>\n",
       "      <th></th>\n",
       "      <th></th>\n",
       "      <th></th>\n",
       "      <th></th>\n",
       "      <th></th>\n",
       "    </tr>\n",
       "  </thead>\n",
       "  <tbody>\n",
       "    <tr>\n",
       "      <th rowspan=\"4\" valign=\"top\">KG_HAB</th>\n",
       "      <th rowspan=\"4\" valign=\"top\">HAZ</th>\n",
       "      <th rowspan=\"2\" valign=\"top\">A</th>\n",
       "      <th>Total</th>\n",
       "      <th>AT</th>\n",
       "      <td>1.0</td>\n",
       "      <td>1.0</td>\n",
       "      <td>9.0</td>\n",
       "      <td>8.0</td>\n",
       "      <td>2.0</td>\n",
       "      <td>1.0</td>\n",
       "    </tr>\n",
       "    <tr>\n",
       "      <th>W128_13</th>\n",
       "      <th>FI</th>\n",
       "      <td>0.0</td>\n",
       "      <td>0.0</td>\n",
       "      <td>0.0</td>\n",
       "      <td>NaN</td>\n",
       "      <td>NaN</td>\n",
       "      <td>NaN</td>\n",
       "    </tr>\n",
       "    <tr>\n",
       "      <th>B</th>\n",
       "      <th>Mineral</th>\n",
       "      <th>BE</th>\n",
       "      <td>0.0</td>\n",
       "      <td>0.0</td>\n",
       "      <td>0.0</td>\n",
       "      <td>0.0</td>\n",
       "      <td>0.0</td>\n",
       "      <td>0.0</td>\n",
       "    </tr>\n",
       "    <tr>\n",
       "      <th>C</th>\n",
       "      <th>W081</th>\n",
       "      <th>AT</th>\n",
       "      <td>0.0</td>\n",
       "      <td>0.0</td>\n",
       "      <td>0.0</td>\n",
       "      <td>0.0</td>\n",
       "      <td>0.0</td>\n",
       "      <td>0.0</td>\n",
       "    </tr>\n",
       "  </tbody>\n",
       "</table>\n",
       "</div>"
      ],
      "text/plain": [
       "                                       2014  2012  2010  2008  2006  2004\n",
       "unit   hazard nace_r2 waste   country                                    \n",
       "KG_HAB HAZ    A       Total   AT        1.0   1.0   9.0   8.0   2.0   1.0\n",
       "                      W128_13 FI        0.0   0.0   0.0   NaN   NaN   NaN\n",
       "              B       Mineral BE        0.0   0.0   0.0   0.0   0.0   0.0\n",
       "              C       W081    AT        0.0   0.0   0.0   0.0   0.0   0.0"
      ]
     },
     "execution_count": 52,
     "metadata": {},
     "output_type": "execute_result"
    }
   ],
   "source": [
    "df_multiple[::1000][:4]"
   ]
  },
  {
   "cell_type": "markdown",
   "metadata": {
    "slideshow": {
     "slide_type": "slide"
    },
    "solution2": "hidden",
    "solution2_first": true
   },
   "source": [
    "#### Task: what percentage of the total non-hazardous waste was generated by agricilture in UK in 2014?"
   ]
  },
  {
   "cell_type": "code",
   "execution_count": 57,
   "metadata": {
    "slideshow": {
     "slide_type": "fragment"
    },
    "solution2": "hidden"
   },
   "outputs": [
    {
     "name": "stdout",
     "output_type": "stream",
     "text": [
      "Waste from agriculture in UK in 2014: 10.7%\n"
     ]
    }
   ],
   "source": [
    "totalUK = df_multiple.loc['KG_HAB','NHAZ','TOTAL_HH','Total','UK']['2014']\n",
    "agricultureUK = df_multiple.loc['KG_HAB','NHAZ','B','Total','UK']['2014']\n",
    "print('Waste from agriculture in UK in 2014: {:1.1f}%'.format(agricultureUK/totalUK*100))"
   ]
  },
  {
   "cell_type": "markdown",
   "metadata": {
    "slideshow": {
     "slide_type": "slide"
    }
   },
   "source": [
    "### Ranking countries by waste generated in 2014\n",
    "Here we select one household waste category and rank the countries by waste generation in 2014."
   ]
  },
  {
   "cell_type": "code",
   "execution_count": 54,
   "metadata": {
    "slideshow": {
     "slide_type": "fragment"
    }
   },
   "outputs": [],
   "source": [
    "dfTotal = df_multiple.loc['KG_HAB','NHAZ','EP_HH','Total'].sort_values(by='2014',ascending=False)\n",
    "dfRecyclable = df_multiple.loc['KG_HAB','NHAZ','EP_HH','Recyclable'].sort_values(by='2014',ascending=False)\n",
    "dfMixed = df_multiple.loc['KG_HAB','NHAZ','EP_HH','Mixed'].sort_values(by='2014',ascending=False)"
   ]
  },
  {
   "cell_type": "markdown",
   "metadata": {
    "slideshow": {
     "slide_type": "slide"
    }
   },
   "source": [
    "`DataFrames` can be conveniently saved as Excel files."
   ]
  },
  {
   "cell_type": "code",
   "execution_count": 58,
   "metadata": {
    "slideshow": {
     "slide_type": "fragment"
    }
   },
   "outputs": [
    {
     "data": {
      "text/html": [
       "<div>\n",
       "<style scoped>\n",
       "    .dataframe tbody tr th:only-of-type {\n",
       "        vertical-align: middle;\n",
       "    }\n",
       "\n",
       "    .dataframe tbody tr th {\n",
       "        vertical-align: top;\n",
       "    }\n",
       "\n",
       "    .dataframe thead th {\n",
       "        text-align: right;\n",
       "    }\n",
       "</style>\n",
       "<table border=\"1\" class=\"dataframe\">\n",
       "  <thead>\n",
       "    <tr style=\"text-align: right;\">\n",
       "      <th></th>\n",
       "      <th>2014</th>\n",
       "      <th>2012</th>\n",
       "      <th>2010</th>\n",
       "      <th>2008</th>\n",
       "      <th>2006</th>\n",
       "      <th>2004</th>\n",
       "    </tr>\n",
       "    <tr>\n",
       "      <th>country</th>\n",
       "      <th></th>\n",
       "      <th></th>\n",
       "      <th></th>\n",
       "      <th></th>\n",
       "      <th></th>\n",
       "      <th></th>\n",
       "    </tr>\n",
       "  </thead>\n",
       "  <tbody>\n",
       "    <tr>\n",
       "      <th>IS</th>\n",
       "      <td>892.0</td>\n",
       "      <td>721.0</td>\n",
       "      <td>729.0</td>\n",
       "      <td>NaN</td>\n",
       "      <td>NaN</td>\n",
       "      <td>484.0</td>\n",
       "    </tr>\n",
       "    <tr>\n",
       "      <th>LI</th>\n",
       "      <td>724.0</td>\n",
       "      <td>8623.0</td>\n",
       "      <td>0.0</td>\n",
       "      <td>0.0</td>\n",
       "      <td>NaN</td>\n",
       "      <td>NaN</td>\n",
       "    </tr>\n",
       "    <tr>\n",
       "      <th>DK</th>\n",
       "      <td>592.0</td>\n",
       "      <td>586.0</td>\n",
       "      <td>627.0</td>\n",
       "      <td>457.0</td>\n",
       "      <td>380.0</td>\n",
       "      <td>373.0</td>\n",
       "    </tr>\n",
       "    <tr>\n",
       "      <th>NL</th>\n",
       "      <td>489.0</td>\n",
       "      <td>512.0</td>\n",
       "      <td>530.0</td>\n",
       "      <td>559.0</td>\n",
       "      <td>561.0</td>\n",
       "      <td>563.0</td>\n",
       "    </tr>\n",
       "    <tr>\n",
       "      <th>IT</th>\n",
       "      <td>486.0</td>\n",
       "      <td>501.0</td>\n",
       "      <td>545.0</td>\n",
       "      <td>550.0</td>\n",
       "      <td>558.0</td>\n",
       "      <td>539.0</td>\n",
       "    </tr>\n",
       "  </tbody>\n",
       "</table>\n",
       "</div>"
      ],
      "text/plain": [
       "          2014    2012   2010   2008   2006   2004\n",
       "country                                           \n",
       "IS       892.0   721.0  729.0    NaN    NaN  484.0\n",
       "LI       724.0  8623.0    0.0    0.0    NaN    NaN\n",
       "DK       592.0   586.0  627.0  457.0  380.0  373.0\n",
       "NL       489.0   512.0  530.0  559.0  561.0  563.0\n",
       "IT       486.0   501.0  545.0  550.0  558.0  539.0"
      ]
     },
     "execution_count": 58,
     "metadata": {},
     "output_type": "execute_result"
    }
   ],
   "source": [
    "output = pd.ExcelWriter('waste.xlsx')\n",
    "dfTotal.to_excel(output,'Sheet1',index=False)\n",
    "dfRecyclable.to_excel(output,'Sheet2',index=False)\n",
    "dfMixed.to_excel(output,'Sheet3',index=False)\n",
    "output.save()\n",
    "dfTotal[:5]"
   ]
  },
  {
   "cell_type": "markdown",
   "metadata": {
    "slideshow": {
     "slide_type": "slide"
    }
   },
   "source": [
    "### Comparison between UK and EU average"
   ]
  },
  {
   "cell_type": "markdown",
   "metadata": {
    "slideshow": {
     "slide_type": "fragment"
    }
   },
   "source": [
    "#### Total waste from household and all NACE Rev. 2 activities "
   ]
  },
  {
   "cell_type": "code",
   "execution_count": 59,
   "metadata": {
    "slideshow": {
     "slide_type": "fragment"
    }
   },
   "outputs": [
    {
     "data": {
      "text/html": [
       "<div>\n",
       "<style scoped>\n",
       "    .dataframe tbody tr th:only-of-type {\n",
       "        vertical-align: middle;\n",
       "    }\n",
       "\n",
       "    .dataframe tbody tr th {\n",
       "        vertical-align: top;\n",
       "    }\n",
       "\n",
       "    .dataframe thead th {\n",
       "        text-align: right;\n",
       "    }\n",
       "</style>\n",
       "<table border=\"1\" class=\"dataframe\">\n",
       "  <thead>\n",
       "    <tr style=\"text-align: right;\">\n",
       "      <th></th>\n",
       "      <th>2014</th>\n",
       "      <th>2012</th>\n",
       "      <th>2010</th>\n",
       "      <th>2008</th>\n",
       "      <th>2006</th>\n",
       "      <th>2004</th>\n",
       "    </tr>\n",
       "    <tr>\n",
       "      <th>country</th>\n",
       "      <th></th>\n",
       "      <th></th>\n",
       "      <th></th>\n",
       "      <th></th>\n",
       "      <th></th>\n",
       "      <th></th>\n",
       "    </tr>\n",
       "  </thead>\n",
       "  <tbody>\n",
       "    <tr>\n",
       "      <th>EU28</th>\n",
       "      <td>4728.0</td>\n",
       "      <td>4729.0</td>\n",
       "      <td>4677.0</td>\n",
       "      <td>4655.0</td>\n",
       "      <td>4958.0</td>\n",
       "      <td>4982.0</td>\n",
       "    </tr>\n",
       "    <tr>\n",
       "      <th>UK</th>\n",
       "      <td>3796.0</td>\n",
       "      <td>3586.0</td>\n",
       "      <td>3657.0</td>\n",
       "      <td>4448.0</td>\n",
       "      <td>4646.0</td>\n",
       "      <td>4848.0</td>\n",
       "    </tr>\n",
       "  </tbody>\n",
       "</table>\n",
       "</div>"
      ],
      "text/plain": [
       "           2014    2012    2010    2008    2006    2004\n",
       "country                                                \n",
       "EU28     4728.0  4729.0  4677.0  4655.0  4958.0  4982.0\n",
       "UK       3796.0  3586.0  3657.0  4448.0  4646.0  4848.0"
      ]
     },
     "execution_count": 59,
     "metadata": {},
     "output_type": "execute_result"
    }
   ],
   "source": [
    "df_multiple.loc['KG_HAB','NHAZ','TOTAL_HH','Total'].loc[('EU28','UK'),:]"
   ]
  },
  {
   "cell_type": "markdown",
   "metadata": {
    "slideshow": {
     "slide_type": "slide"
    },
    "solution2": "hidden",
    "solution2_first": true
   },
   "source": [
    "#### Task: compare the total waste from mining (NACE Rev.2 B) in 2014 in your country to the EU average"
   ]
  },
  {
   "cell_type": "code",
   "execution_count": null,
   "metadata": {
    "slideshow": {
     "slide_type": "fragment"
    },
    "solution2": "hidden"
   },
   "outputs": [],
   "source": [
    "df_multiple.loc['KG_HAB','NHAZ','B','Total'].loc[('EU28','UK'),:]['2014']"
   ]
  },
  {
   "cell_type": "markdown",
   "metadata": {
    "slideshow": {
     "slide_type": "slide"
    }
   },
   "source": [
    "#### Cross-Section of a `DataFrame` [focusing on a subcategory (waste type) for all supercategories (activities)]: Which activities generated most of the recyclable wastes in Sweden in 2014"
   ]
  },
  {
   "cell_type": "code",
   "execution_count": null,
   "metadata": {
    "slideshow": {
     "slide_type": "fragment"
    }
   },
   "outputs": [],
   "source": [
    "df_multiple.loc['KG_HAB','HAZ_NHAZ'][['2014']].xs(('Recyclable','UK'),\n",
    "                                     level=['waste','country']).sort_values(by='2014',ascending=False)[:3]"
   ]
  },
  {
   "cell_type": "markdown",
   "metadata": {
    "slideshow": {
     "slide_type": "slide"
    }
   },
   "source": [
    "#### Plotting the yearly progress in Swedish, Finnish, and British mining waste generation compared to the EU average"
   ]
  },
  {
   "cell_type": "code",
   "execution_count": null,
   "metadata": {
    "slideshow": {
     "slide_type": "fragment"
    }
   },
   "outputs": [],
   "source": [
    "for country, c in zip(['SE','EU28','FI','UK'],['r','b','g','y']):\n",
    "    years = df_multiple.loc['KG_HAB','NHAZ','B','Total'].loc[country]\n",
    "    plt.plot(years.index.astype(int),years.values,color=c)\n",
    "    plt.plot(years.index.astype(int),years.values,label=country,color=c,marker='X',lw=0,ms=10)\n",
    "plt.legend(frameon=False,ncol=2,labelspacing=1.5)\n",
    "plt.yscale('log'); plt.ylabel('kilograms per capita'); plt.xlabel('year'); plt.show()"
   ]
  },
  {
   "cell_type": "markdown",
   "metadata": {
    "slideshow": {
     "slide_type": "slide"
    },
    "solution2": "hidden",
    "solution2_first": true
   },
   "source": [
    "##### Task: Plot the yearly progress in UK household recyclable and mixed waste generation compared to the EU average"
   ]
  },
  {
   "cell_type": "code",
   "execution_count": null,
   "metadata": {
    "slideshow": {
     "slide_type": "fragment"
    },
    "solution2": "hidden"
   },
   "outputs": [],
   "source": [
    "for country in ['UK','EU28']:\n",
    "    for waste, c in zip(['Mixed','Recyclable'],['r','b']):\n",
    "        years = df_multiple.loc['KG_HAB','NHAZ','EP_HH',waste].loc[country]\n",
    "        ls = '--' if (country == 'EU28') else '-'\n",
    "        m = 'o' if (country == 'EU28') else 's'\n",
    "        plt.plot(years.index.astype(int),years.values,color=c,ls=ls)\n",
    "        plt.plot(years.index.astype(int),years.values,label=waste+', '+country,color=c,marker=m,lw=0,ms=10)\n",
    "plt.legend(frameon=False,ncol=2,labelspacing=1.5)\n",
    "plt.ylabel('kilograms per capita'); plt.xlabel('year'); plt.show()"
   ]
  },
  {
   "cell_type": "markdown",
   "metadata": {
    "slideshow": {
     "slide_type": "slide"
    },
    "solution2": "hidden",
    "solution2_first": true
   },
   "source": [
    "Now we want to create a stacked bar plot showing the total, recyclable, and mixed household waste for each country ranked in ascending order with respect to the total household waste in 2014.<br>\n",
    "The `DataFrames` `dfMixed`, `dfTotal`, and `dfRecyclable` were sorted based on the respective 2014 values. Now we want to sort them based on the 2014 values of `df_tot`."
   ]
  },
  {
   "cell_type": "code",
   "execution_count": null,
   "metadata": {
    "slideshow": {
     "slide_type": "fragment"
    },
    "solution2": "hidden"
   },
   "outputs": [],
   "source": [
    "dfMixed = dfMixed.reindex(dfTotal.index)\n",
    "dfRecyclable = dfRecyclable.reindex(dfTotal.index)"
   ]
  },
  {
   "cell_type": "code",
   "execution_count": null,
   "metadata": {
    "slideshow": {
     "slide_type": "slide"
    }
   },
   "outputs": [],
   "source": [
    "ind = range(dfMixed['2014'].values.size) # the x locations for the groups\n",
    "width = 0.35 # the width of the bars: can also be len(x) sequence\n",
    "plt.bar(ind, dfTotal['2014'].values, width, label='Total')\n",
    "plt.bar(ind, dfRecyclable['2014'].values, width, label='Recyclable')\n",
    "plt.bar(ind, dfMixed['2014'].values, width, bottom=dfRecyclable['2014'].values, label='Mixed ordinary')\n",
    "plt.ylabel('kilograms per capita'); plt.title('Household Waste in 2014')\n",
    "plt.xticks(ind, dfTotal.index, rotation=45); plt.xlim(-.5,18.5)\n",
    "plt.legend(loc='upper right',frameon=False); plt.show()"
   ]
  },
  {
   "cell_type": "markdown",
   "metadata": {
    "slideshow": {
     "slide_type": "slide"
    },
    "solution2": "hidden",
    "solution2_first": true
   },
   "source": [
    "#### Task: create a bar plot showing the mineral waste generated by each country from mining (NACE Rev.2 B) and construction (NACE Rev.2 F) ranked in ascending order with respect to the sum mining+construction (select data from 2014)"
   ]
  },
  {
   "cell_type": "code",
   "execution_count": null,
   "metadata": {
    "slideshow": {
     "slide_type": "fragment"
    },
    "solution2": "hidden"
   },
   "outputs": [],
   "source": [
    "dfMining = df_multiple.loc['KG_HAB','HAZ_NHAZ','B','Mineral']\n",
    "dfConstruction = df_multiple.loc['KG_HAB','HAZ_NHAZ','F','Mineral']\n",
    "dfSum = dfMining + dfConstruction\n",
    "dfSum = dfSum.sort_values(by='2014',ascending=False)\n",
    "dfMining = dfMining.reindex(dfSum.index)\n",
    "dfConstruction = dfConstruction.reindex(dfSum.index)\n",
    "ind = range(dfConstruction['2014'].values.size)\n",
    "plt.bar(ind, dfMining['2014'].values, width, label='Mining')\n",
    "plt.bar(ind, dfConstruction['2014'].values, width, \n",
    "             bottom=dfMining['2014'].values, label='Construction')\n",
    "plt.ylabel('kilograms per capita'); plt.title('Mineral and solidified wastes in 2014')\n",
    "plt.xticks(ind, dfMining.index, rotation=45); plt.xlim(-.5,18.5)\n",
    "plt.legend(loc='upper right',frameon=False); \n",
    "plt.show()"
   ]
  },
  {
   "cell_type": "markdown",
   "metadata": {
    "slideshow": {
     "slide_type": "skip"
    }
   },
   "source": [
    "### Case Study: Data on Waste Treatment from [eurostat](http://ec.europa.eu/eurostat/data/database)"
   ]
  },
  {
   "cell_type": "code",
   "execution_count": null,
   "metadata": {
    "slideshow": {
     "slide_type": "skip"
    }
   },
   "outputs": [],
   "source": [
    "!head -n 1 env_wastrt.tsv"
   ]
  },
  {
   "cell_type": "code",
   "execution_count": null,
   "metadata": {
    "slideshow": {
     "slide_type": "skip"
    }
   },
   "outputs": [],
   "source": [
    "wasteTreatment = pd.read_table('env_wastrt.tsv',header=0,sep=',|\\t',engine='python',\n",
    "                   names=['unit','hazard','wst_oper','waste','country','2014','2012','2010','2008','2006','2004'])"
   ]
  },
  {
   "cell_type": "markdown",
   "metadata": {
    "slideshow": {
     "slide_type": "skip"
    }
   },
   "source": [
    "Here we rename some of the waste treatment operations"
   ]
  },
  {
   "cell_type": "code",
   "execution_count": null,
   "metadata": {
    "slideshow": {
     "slide_type": "skip"
    }
   },
   "outputs": [],
   "source": [
    "wasteTreatment.loc[wasteTreatment.wst_oper=='TRT','wst_oper']='Total'\n",
    "wasteTreatment.loc[wasteTreatment.wst_oper=='DSP_L','wst_oper']='Landfill'\n",
    "wasteTreatment.loc[wasteTreatment.wst_oper=='INC','wst_oper']='Incineration/Disposal' \n",
    "wasteTreatment.loc[wasteTreatment.wst_oper=='RCV_E','wst_oper']='Incineration/Energy recovery'\n",
    "wasteTreatment.loc[wasteTreatment.wst_oper=='RCV_B','wst_oper']='Backfilling'\n",
    "wasteTreatment.loc[wasteTreatment.wst_oper=='RCV_O','wst_oper']='Recovery'"
   ]
  },
  {
   "cell_type": "code",
   "execution_count": null,
   "metadata": {
    "slideshow": {
     "slide_type": "skip"
    }
   },
   "outputs": [],
   "source": [
    "wasteTreatment = wasteTreatment.set_index(['unit','hazard','wst_oper','waste','country'])"
   ]
  },
  {
   "cell_type": "code",
   "execution_count": null,
   "metadata": {
    "slideshow": {
     "slide_type": "skip"
    }
   },
   "outputs": [],
   "source": [
    "for col in wasteTreatment.columns:\n",
    "    wasteTreatment[col] = wasteTreatment[col].map(lambda x: x.rstrip('bcdefinprsuz'))\n",
    "    wasteTreatment[col] = pd.to_numeric(wasteTreatment[col], errors='coerce')"
   ]
  },
  {
   "cell_type": "markdown",
   "metadata": {
    "slideshow": {
     "slide_type": "skip"
    }
   },
   "source": [
    "#### Plastic waste treatment in the EU in 2014"
   ]
  },
  {
   "cell_type": "code",
   "execution_count": null,
   "metadata": {
    "slideshow": {
     "slide_type": "skip"
    }
   },
   "outputs": [],
   "source": [
    "total = wasteTreatment.loc['T','HAZ_NHAZ','Total','W074'][['2014']]\n",
    "incinerated = wasteTreatment.loc['T','HAZ_NHAZ','Incineration/Energy recovery','W074'][['2014']]\n",
    "sorter = (incinerated/total).sort_values(by='2014',ascending=False)\n",
    "total = total.reindex(sorter.index)\n",
    "ind = range(sorter.index.size)\n",
    "width = 0.35\n",
    "bottom = np.zeros(sorter.index.shape,dtype=float)"
   ]
  },
  {
   "cell_type": "code",
   "execution_count": null,
   "metadata": {
    "slideshow": {
     "slide_type": "skip"
    }
   },
   "outputs": [],
   "source": [
    "for operation in ['Recovery','Backfilling','Landfill','Incineration/Disposal','Incineration/Energy recovery']:     \n",
    "    op = wasteTreatment.loc['T','HAZ_NHAZ',operation,'W074'][['2014']]\n",
    "    op = op.reindex(sorter.index)\n",
    "    ratio_op = op / total\n",
    "    plt.bar(ind[:21], ratio_op['2014'].values[:21], width, bottom=bottom[:21], label=operation)\n",
    "    bottom = np.add(ratio_op['2014'].values,bottom)\n",
    "plt.ylabel('Fraction of total plastic wastes'); plt.title('Treatment of plastic wastes in 2014')\n",
    "plt.xticks(ind, sorter.index, rotation=45); plt.xlim(1.5,20.5); plt.ylim(0,1.6)\n",
    "plt.legend(loc='upper right',frameon=False,ncol=2); plt.show()"
   ]
  },
  {
   "cell_type": "markdown",
   "metadata": {
    "slideshow": {
     "slide_type": "skip"
    }
   },
   "source": [
    "### Case Study: Data Scraping – Temperature in Oxford"
   ]
  },
  {
   "cell_type": "markdown",
   "metadata": {
    "slideshow": {
     "slide_type": "skip"
    }
   },
   "source": [
    "Gather data from a website.<br>\n",
    "Here we show how to read an HTML page."
   ]
  },
  {
   "cell_type": "code",
   "execution_count": null,
   "metadata": {},
   "outputs": [],
   "source": [
    "from lxml import html \n",
    "import requests\n",
    "from time import sleep\n",
    "import io"
   ]
  },
  {
   "cell_type": "code",
   "execution_count": null,
   "metadata": {
    "slideshow": {
     "slide_type": "skip"
    }
   },
   "outputs": [],
   "source": [
    "url = 'https://www.metoffice.gov.uk/pub/data/weather/uk/climate/stationdata/oxforddata.txt'\n",
    "response = requests.get(url)\n",
    "sleep(3)\n",
    "parser = html.fromstring(response.text)"
   ]
  },
  {
   "cell_type": "code",
   "execution_count": null,
   "metadata": {
    "slideshow": {
     "slide_type": "skip"
    }
   },
   "outputs": [],
   "source": [
    "tempOxford = pd.read_table(io.StringIO(parser.text),header=None,engine='python',delim_whitespace=True,\n",
    "                     skiprows=range(7),names=['yyyy','mm','tmax','tmin','af','rain','sun','comment'])"
   ]
  },
  {
   "cell_type": "markdown",
   "metadata": {
    "slideshow": {
     "slide_type": "skip"
    }
   },
   "source": [
    "We set $year$ and $month$ labels as indeces and remove the last four columns from the `DataFrame`"
   ]
  },
  {
   "cell_type": "code",
   "execution_count": null,
   "metadata": {
    "slideshow": {
     "slide_type": "skip"
    }
   },
   "outputs": [],
   "source": [
    "tempOxford.set_index(['yyyy','mm'],inplace=True)\n",
    "tempOxford.drop(['af','rain','sun','comment'],axis=1,inplace=True)\n",
    "tempOxford[-8:-5]"
   ]
  },
  {
   "cell_type": "markdown",
   "metadata": {
    "slideshow": {
     "slide_type": "skip"
    }
   },
   "source": [
    "Since some values are marked with a * to indicate that they are estimates, temperatures were read as strings.<br>\n",
    "Now we convert them to numbers."
   ]
  },
  {
   "cell_type": "code",
   "execution_count": null,
   "metadata": {
    "slideshow": {
     "slide_type": "skip"
    }
   },
   "outputs": [],
   "source": [
    "for col in tempOxford.columns:\n",
    "    tempOxford[col] = tempOxford[col].map(lambda x: x.rstrip('*'))\n",
    "    tempOxford[col] = pd.to_numeric(tempOxford[col], errors='coerce')\n",
    "    \n"
   ]
  },
  {
   "cell_type": "code",
   "execution_count": null,
   "metadata": {},
   "outputs": [],
   "source": [
    "tempOxford[-8:-5]"
   ]
  },
  {
   "cell_type": "markdown",
   "metadata": {
    "slideshow": {
     "slide_type": "skip"
    }
   },
   "source": [
    "### Date Formatting – Temperature in L'Aquila (in Italy)"
   ]
  },
  {
   "cell_type": "markdown",
   "metadata": {
    "slideshow": {
     "slide_type": "skip"
    }
   },
   "source": [
    "Some useful keywords in `pd.read_table()`:\n",
    "* na_vaules: sets the values to be replaced by `NaN` \n",
    "* parse_dates: we specify the column so that dates are interpreted as such instead of as $strings$\n",
    "* date_parser: we specify a labda function to parse dates according to our format"
   ]
  },
  {
   "cell_type": "code",
   "execution_count": null,
   "metadata": {
    "slideshow": {
     "slide_type": "skip"
    }
   },
   "outputs": [],
   "source": [
    "temp_aquila = pd.DataFrame()\n",
    "dateparse = lambda x: pd.datetime.strptime(x, '%d/%m/%Y')\n",
    "for year in range(1968,2019):\n",
    "    url = 'http://meteorema.aquila.infn.it/tempaq/dati/hist/'+str(year)+'.txt'\n",
    "    temp_year_aquila = pd.read_table(url,header=None,engine='python',delim_whitespace=True,\n",
    "                     comment='#',names=['Date','day','tmin','tmax'],na_values=-999.99,\n",
    "                     parse_dates=['Date'], date_parser=dateparse)\n",
    "    temp_aquila = temp_aquila.append(temp_year_aquila,ignore_index=True)\n"
   ]
  },
  {
   "cell_type": "code",
   "execution_count": null,
   "metadata": {},
   "outputs": [],
   "source": [
    "temp_aquila.head()\n",
    "temp_aquila.to_csv('temperatureItaly.csv')"
   ]
  },
  {
   "cell_type": "code",
   "execution_count": null,
   "metadata": {},
   "outputs": [],
   "source": [
    "temp_aquila.columns"
   ]
  },
  {
   "cell_type": "code",
   "execution_count": null,
   "metadata": {
    "slideshow": {
     "slide_type": "skip"
    }
   },
   "outputs": [],
   "source": [
    "temp_aquila.drop('day',axis=1,inplace=True)\n",
    "temp_aquila.columns"
   ]
  },
  {
   "cell_type": "code",
   "execution_count": null,
   "metadata": {
    "slideshow": {
     "slide_type": "skip"
    }
   },
   "outputs": [],
   "source": [
    "temp_aquila['year'] = temp_aquila['Date'].dt.year\n",
    "temp_aquila['month'] = temp_aquila['Date'].dt.month\n",
    "temp_aquila['day'] = temp_aquila['Date'].dt.day\n",
    "temp_aquila.drop('Date',axis=1,inplace=True)\n",
    "temp_aquila.set_index(['year','month','day'],inplace=True)\n",
    "temp_aquila.dropna()\n",
    "temp_aquila[-3:]"
   ]
  },
  {
   "cell_type": "code",
   "execution_count": null,
   "metadata": {
    "slideshow": {
     "slide_type": "skip"
    }
   },
   "outputs": [],
   "source": [
    "tmax_year_mean_ox = tempOxford.groupby('yyyy')['tmax'].mean()\n",
    "tmax_year_mean_ox"
   ]
  },
  {
   "cell_type": "code",
   "execution_count": null,
   "metadata": {
    "slideshow": {
     "slide_type": "skip"
    }
   },
   "outputs": [],
   "source": [
    "mean_lowess_OXFORD = lowess(tmax_year_mean_ox.values,tmax_year_mean_ox.index,frac=0.5)\n",
    "mean_lowess_OXFORD"
   ]
  },
  {
   "cell_type": "code",
   "execution_count": null,
   "metadata": {
    "slideshow": {
     "slide_type": "skip"
    }
   },
   "outputs": [],
   "source": [
    "tmax_year_mean_aq = temp_aquila.groupby('year')['tmax'].mean()\n",
    "mean_lowess_AQUILA = lowess(tmax_year_mean_aq.values,tmax_year_mean_aq.index,frac=0.5)\n",
    "plt.plot(mean_lowess_AQUILA[:,0],mean_lowess_AQUILA[:,1],label=\"Mean $T_{max}$ in L'Aquila\",lw=4,color='b')\n",
    "plt.plot(mean_lowess_OXFORD[:,0],mean_lowess_OXFORD[:,1],label='Mean $T_{max}$ in Oxford',lw=4,color='r')\n",
    "plt.plot(mean_lowess_STHLM[:,0],mean_lowess_STHLM[:,1],label='Mean $T_{max}$ in Stockholm',lw=4,color='g')\n",
    "plt.legend(frameon=False)\n",
    "plt.xlabel('Year'); plt.ylabel('Mean of $T_{max}$ ($^\\circ$C)'); plt.show()"
   ]
  },
  {
   "cell_type": "code",
   "execution_count": null,
   "metadata": {},
   "outputs": [],
   "source": []
  },
  {
   "cell_type": "code",
   "execution_count": null,
   "metadata": {},
   "outputs": [],
   "source": []
  },
  {
   "cell_type": "code",
   "execution_count": null,
   "metadata": {},
   "outputs": [],
   "source": []
  }
 ],
 "metadata": {
  "kernelspec": {
   "display_name": "Python 3",
   "language": "python",
   "name": "python3"
  },
  "language_info": {
   "codemirror_mode": {
    "name": "ipython",
    "version": 3
   },
   "file_extension": ".py",
   "mimetype": "text/x-python",
   "name": "python",
   "nbconvert_exporter": "python",
   "pygments_lexer": "ipython3",
   "version": "3.7.1"
  },
  "toc": {
   "base_numbering": 1,
   "nav_menu": {},
   "number_sections": true,
   "sideBar": true,
   "skip_h1_title": false,
   "title_cell": "Table of Contents",
   "title_sidebar": "Contents",
   "toc_cell": false,
   "toc_position": {},
   "toc_section_display": true,
   "toc_window_display": false
  }
 },
 "nbformat": 4,
 "nbformat_minor": 2
}
